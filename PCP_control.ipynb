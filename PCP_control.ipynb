{
 "cells": [
  {
   "cell_type": "markdown",
   "metadata": {},
   "source": [
    "<div>\n",
    "<a href=\"https://www.audiolabs-erlangen.de/fau/professor/mueller\"><img src=\"data_layout/PCP_Teaser.png\" width=100% style=\"float: right;\" alt=\"PCP Teaser\"></a>\n",
    "</div>"
   ]
  },
  {
   "cell_type": "markdown",
   "metadata": {},
   "source": [
    "# Unit 4: Basic Control Structures and Functions\n",
    "\n",
    "<ul>\n",
    "    <li><a href='#learn'>Overview and Learning Objectives</a></li>     \n",
    "    <li><a href='#control'>Basic Control Structures</a></li>    \n",
    "    <li><a href='#function'>Python Functions</a></li>  \n",
    "    <li><a href='#runtime'>Efficiency and Runtime</a></li>     \n",
    "    <li><a href='#exercise_give_number'>Exercise 1: Function <code>give_me_a_number</code></a></li>        \n",
    "    <li><a href='#exercise_row_mean'>Exercise 2: Function for Computing Row Mean</code></a></li>\n",
    "    <li><a href='#exercise_odd'>Exercise 3: Function for Computing Odd-Index Vector</a></li>\n",
    "    <li><a href='#exercise_isprime'>Exercise 4: Primality Test</a></li>    \n",
    "    <li><a href='#exercise_root'>Exercise 5: Function for Root Finding</a></li>         \n",
    "</ul>"
   ]
  },
  {
   "cell_type": "markdown",
   "metadata": {},
   "source": [
    "<a id='learn'></a> \n",
    "<div class=\"alert alert-block alert-warning\">\n",
    "<h2>Overview and Learning Objectives</h2>\n",
    "\n",
    "This unit briefly introduces basic Python control structures (including `if`, `for`, and `while`),  which are similar to most other programming languages. Then, we look at how to create a function in Python using the keyword `def`. In particular, we discuss the difference between default and non-default arguments. Also, we give some guidelines on how to document a function using a suitable docstring. Finally, we show how one can measure the runtime for executing a function or small code snippets using the Python module `timeit`. In the first three exercises of this unit, you will implement some simple functions (which can be done in many ways) to familiarize yourself with the Python syntax. In <a href='#exercise_isprime'>Exercise 4</a>, we consider the mathematical problem of whether a natural number is a prime number. After implementing a simple Python function that solves this task, you should look for more efficient algorithms for primality testing. Going beyond the task specification, you may implement different algorithms and compare their runtime behavior and execution time for increasing numbers. Finally, in <a href='#exercise_root'>Exercise 5</a>, you find an accurate description of an algorithm for finding a root of a continuous function (i.e., an argument where the function assumes the value zero). While being a good exercise for implementing a mathematical procedure in executable Python code, this exercise also reviews some mathematical terms (e.g., interval, root, prime) that we think you should be familiar with. Furthermore, we want to make you aware that the notion of a function may appear in different contexts, e.g., once referring to a Python function and once to a mathematical function $f$ (which itself may serve as an argument to a Python function).\n",
    "    \n",
    "</div> "
   ]
  },
  {
   "cell_type": "markdown",
   "metadata": {},
   "source": [
    "<a id='control'></a>\n",
    "## Basic Control Structures\n",
    "\n",
    "In Python, there are basic control structures similar to most other programming languages. The most important control structures are:\n",
    "<ul>\n",
    "<li> <code>if</code>:  conditionally execute statements\n",
    "<li> <code>for</code>:  repeat statements a specific number of times\n",
    "<li> <code>while</code>:  repeat statements an indefinite number of times\n",
    "<li> <code>break</code>:  terminate execution of a <code>while</code>  or <code>for</code>  loop\n",
    "<li> <code>continue</code>:  continue execution of a <code>while</code>  or <code>for</code>  loop at top\n",
    "</ul>\n",
    "\n",
    "For control structures such as `if`, `for` or `while`, one has to use indentations (as part of the syntax). A typical Python convention is to use four spaces (or a tab indent). In the following, we give examples for each of these control structures. Let us start with an `if`-statement, which is written as follows:"
   ]
  },
  {
   "cell_type": "code",
   "execution_count": 1,
   "metadata": {
    "execution": {
     "iopub.execute_input": "2021-09-23T10:11:22.604040Z",
     "iopub.status.busy": "2021-09-23T10:11:22.601709Z",
     "iopub.status.idle": "2021-09-23T10:11:22.608293Z",
     "shell.execute_reply": "2021-09-23T10:11:22.609100Z"
    }
   },
   "outputs": [
    {
     "name": "stdout",
     "output_type": "stream",
     "text": [
      "Negative\n"
     ]
    }
   ],
   "source": [
    "n = -2\n",
    "if n < 0:\n",
    "    print('Negative')\n",
    "elif n > 0:\n",
    "    print('Positive')    \n",
    "else:\n",
    "    print('Zero')"
   ]
  },
  {
   "cell_type": "markdown",
   "metadata": {},
   "source": [
    "The next example shows how to use a `for`-loop. Note that an iterable may be specified by a range, a list, a tuple, or even other structures."
   ]
  },
  {
   "cell_type": "code",
   "execution_count": 2,
   "metadata": {
    "execution": {
     "iopub.execute_input": "2021-09-23T10:11:22.616138Z",
     "iopub.status.busy": "2021-09-23T10:11:22.615189Z",
     "iopub.status.idle": "2021-09-23T10:11:22.617894Z",
     "shell.execute_reply": "2021-09-23T10:11:22.618593Z"
    }
   },
   "outputs": [
    {
     "name": "stdout",
     "output_type": "stream",
     "text": [
      "0-1-2-\n",
      "a-2-c-def-\n",
      "e-x-a-m-p-l-e-\n"
     ]
    }
   ],
   "source": [
    "for i in range(3):\n",
    "    print(i, end='-')\n",
    "print()\n",
    "    \n",
    "for i in ['a', 2, 'c', 'def']:\n",
    "    print(i, end='-')\n",
    "print()\n",
    "\n",
    "for i in 'example':\n",
    "    print(i, end='-')\n",
    "print()"
   ]
  },
  {
   "cell_type": "markdown",
   "metadata": {},
   "source": [
    "A `while`-loop is written as follows:"
   ]
  },
  {
   "cell_type": "code",
   "execution_count": 3,
   "metadata": {
    "execution": {
     "iopub.execute_input": "2021-09-23T10:11:22.624980Z",
     "iopub.status.busy": "2021-09-23T10:11:22.624133Z",
     "iopub.status.idle": "2021-09-23T10:11:22.627729Z",
     "shell.execute_reply": "2021-09-23T10:11:22.628426Z"
    }
   },
   "outputs": [
    {
     "name": "stdout",
     "output_type": "stream",
     "text": [
      "0-1-2-3-4-"
     ]
    }
   ],
   "source": [
    "a = 0\n",
    "while a < 5:\n",
    "    print(a, end='-')\n",
    "    a += 1"
   ]
  },
  {
   "cell_type": "markdown",
   "metadata": {},
   "source": [
    "The `break`-statement is used to terminate the loop containing it. This is demonstrated by the following example, which consists of two nested loops each containing a  `break`-statement."
   ]
  },
  {
   "cell_type": "code",
   "execution_count": 4,
   "metadata": {
    "execution": {
     "iopub.execute_input": "2021-09-23T10:11:22.634452Z",
     "iopub.status.busy": "2021-09-23T10:11:22.633636Z",
     "iopub.status.idle": "2021-09-23T10:11:22.636401Z",
     "shell.execute_reply": "2021-09-23T10:11:22.637104Z"
    }
   },
   "outputs": [
    {
     "name": "stdout",
     "output_type": "stream",
     "text": [
      "a1-a2-a3-b1-b2-b3-"
     ]
    }
   ],
   "source": [
    "for k in 'abcd':\n",
    "    if k == 'c':\n",
    "        break\n",
    "    for i in '12345':\n",
    "        if i == '4':\n",
    "            break\n",
    "        print(k + i, end='-')"
   ]
  },
  {
   "cell_type": "markdown",
   "metadata": {},
   "source": [
    "The `continue`-statement is used to terminate only the current step of the loop. The loop then continues with the next iteration."
   ]
  },
  {
   "cell_type": "code",
   "execution_count": 5,
   "metadata": {
    "execution": {
     "iopub.execute_input": "2021-09-23T10:11:22.643860Z",
     "iopub.status.busy": "2021-09-23T10:11:22.641650Z",
     "iopub.status.idle": "2021-09-23T10:11:22.645707Z",
     "shell.execute_reply": "2021-09-23T10:11:22.646450Z"
    }
   },
   "outputs": [
    {
     "name": "stdout",
     "output_type": "stream",
     "text": [
      "a1-a2-a3-a5-b1-b2-b3-b5-d1-d2-d3-d5-"
     ]
    }
   ],
   "source": [
    "for k in 'abcd':\n",
    "    if k == 'c':\n",
    "        continue\n",
    "    for i in '12345':\n",
    "        if i == '4':\n",
    "            continue\n",
    "        print(k + i, end='-')"
   ]
  },
  {
   "cell_type": "markdown",
   "metadata": {},
   "source": [
    "<a id='function'></a>\n",
    "## Python Functions\n",
    "\n",
    "One defines functions with the `def`-keyword. As variable names, function names may contain letters (`a`, `b`, ..., `Y`, `Z`) and the underscore (`_`). All but the first character can also be positive integer number. Usually one uses lower case letters and underscores to separate words. The following function is named `add`. It has three arguments `a`, `b`, and `c` (with `b` and `c` having a default value). The `return` keyword is succeeded by the return value."
   ]
  },
  {
   "cell_type": "code",
   "execution_count": 6,
   "metadata": {
    "execution": {
     "iopub.execute_input": "2021-09-23T10:11:22.653782Z",
     "iopub.status.busy": "2021-09-23T10:11:22.652993Z",
     "iopub.status.idle": "2021-09-23T10:11:22.655920Z",
     "shell.execute_reply": "2021-09-23T10:11:22.656400Z"
    }
   },
   "outputs": [
    {
     "name": "stdout",
     "output_type": "stream",
     "text": [
      "Addition:  5  +  0  +  0\n",
      "5\n",
      "Addition:  5  +  2  +  1\n",
      "8\n",
      "Addition:  5  +  0  +  4\n",
      "9\n"
     ]
    }
   ],
   "source": [
    "def add(a, b=0, c=0):\n",
    "    \"\"\"Function to add three numbers\n",
    "\n",
    "    Notebook: PCP_control.ipynb\n",
    "\n",
    "    Args:\n",
    "        a: first number\n",
    "        b: second number (Default value = 0)\n",
    "        c: third number (Default value = 0)\n",
    "\n",
    "    Returns:\n",
    "        Sum of a, b and c\n",
    "    \"\"\"\n",
    "    print('Addition: ', a, ' + ', b, ' + ', c)\n",
    "    return a + b + c\n",
    "\n",
    "print(add(5))\n",
    "print(add(5, 2, 1))\n",
    "print(add(5, c=4))"
   ]
  },
  {
   "cell_type": "markdown",
   "metadata": {},
   "source": [
    "There are some rules and differences on how to use arguments without and with default values. \n",
    "\n",
    "* All non-default arguments must be specified in the function call.\n",
    "* The order of default arguments may not be changed in the call.\n",
    "* The default arguments are optional in a call. If a value is provided, the default value is overwritten.\n",
    "* A function may have any number of default arguments. However, a default argument may not be followed by a non-default argument. \n",
    "\n",
    "These rules are illustrated by the previous examples. The next example demonstrates that a function may also have multiple return values (which are returned as a tuple):"
   ]
  },
  {
   "cell_type": "code",
   "execution_count": 7,
   "metadata": {
    "execution": {
     "iopub.execute_input": "2021-09-23T10:11:22.665500Z",
     "iopub.status.busy": "2021-09-23T10:11:22.664540Z",
     "iopub.status.idle": "2021-09-23T10:11:22.668081Z",
     "shell.execute_reply": "2021-09-23T10:11:22.667502Z"
    }
   },
   "outputs": [
    {
     "name": "stdout",
     "output_type": "stream",
     "text": [
      "result: (8, -2) <class 'tuple'>\n",
      "result: 8 -2 <class 'int'> <class 'int'>\n",
      "result: 8.0 -2.0 <class 'float'> <class 'float'>\n"
     ]
    }
   ],
   "source": [
    "def add_and_diff(a, b=0):\n",
    "    \"\"\"Function to add and subtract two numbers\n",
    "\n",
    "    Notebook: PCP_control.ipynb\n",
    "\n",
    "    Args:\n",
    "        a: first number\n",
    "        b: second number (Default value = 0)\n",
    "\n",
    "    Returns:\n",
    "        first: a + b\n",
    "        second: a - b\n",
    "    \"\"\"\n",
    "    return a + b, a - b\n",
    "\n",
    "x = add_and_diff(3, 5)\n",
    "print('result:', x, type(x))\n",
    "x, y = add_and_diff(3, 5)\n",
    "print('result:', x, y, type(x), type(y))\n",
    "x, y = add_and_diff(3.0, 5)\n",
    "print('result:', x, y, type(x), type(y))"
   ]
  },
  {
   "cell_type": "markdown",
   "metadata": {},
   "source": [
    "It is important to document a function. In particular, one should always describe the purpose of a function as well as its input and output. This is exactly what a **docstring** is used for. As described in the [Python Docstring Conventions](https://www.python.org/dev/peps/pep-0257/), a docstring is a string literal that occurs as the first statement in the function. For consistency, it is advised to use  `\"\"\"triple double quotes\"\"\"` around docstrings. Using the `help()` function, the content of the docstring is shown. This is a useful feature when building your own libraries with many functions. In the following code cell, we show the docstring of the function `add` defined above."
   ]
  },
  {
   "cell_type": "code",
   "execution_count": 8,
   "metadata": {
    "execution": {
     "iopub.execute_input": "2021-09-23T10:11:22.673151Z",
     "iopub.status.busy": "2021-09-23T10:11:22.672366Z",
     "iopub.status.idle": "2021-09-23T10:11:22.675022Z",
     "shell.execute_reply": "2021-09-23T10:11:22.675860Z"
    }
   },
   "outputs": [
    {
     "name": "stdout",
     "output_type": "stream",
     "text": [
      "Help on function add in module __main__:\n",
      "\n",
      "add(a, b=0, c=0)\n",
      "    Function to add three numbers\n",
      "    \n",
      "    Notebook: PCP_control.ipynb\n",
      "    \n",
      "    Args:\n",
      "        a: first number\n",
      "        b: second number (Default value = 0)\n",
      "        c: third number (Default value = 0)\n",
      "    \n",
      "    Returns:\n",
      "        Sum of a, b and c\n",
      "\n"
     ]
    }
   ],
   "source": [
    "help(add)"
   ]
  },
  {
   "cell_type": "markdown",
   "metadata": {},
   "source": [
    "<a id='runtime'></a>  \n",
    "## Efficiency and Runtime\n",
    "\n",
    "In the following example, we consider the task of computing the sum $\\sum_{i=1}^n i$ for a given integer $n\\in\\mathbb{N}$. We first implement a naive function <code>sum_n</code> that uses a simple <code>for</code>-loop. We then execute the function <code>sum_n</code> in a <code>while</code>-loop for increasing $n=1,2,3,...$ and output the result until the sum exceeds $100$.</li>"
   ]
  },
  {
   "cell_type": "code",
   "execution_count": 9,
   "metadata": {
    "execution": {
     "iopub.execute_input": "2021-09-23T10:11:22.685572Z",
     "iopub.status.busy": "2021-09-23T10:11:22.684788Z",
     "iopub.status.idle": "2021-09-23T10:11:22.687536Z",
     "shell.execute_reply": "2021-09-23T10:11:22.688339Z"
    }
   },
   "outputs": [
    {
     "name": "stdout",
     "output_type": "stream",
     "text": [
      "n= 1, s=1\n",
      "n= 2, s=3\n",
      "n= 3, s=6\n",
      "n= 4, s=10\n",
      "n= 5, s=15\n",
      "n= 6, s=21\n",
      "n= 7, s=28\n",
      "n= 8, s=36\n",
      "n= 9, s=45\n",
      "n= 10, s=55\n",
      "n= 11, s=66\n",
      "n= 12, s=78\n",
      "n= 13, s=91\n"
     ]
    }
   ],
   "source": [
    "def sum_n(n):\n",
    "    \"\"\"Function that sums up the integers from 1 to n\n",
    "\n",
    "    Notebook: PCP_control.ipynb\n",
    "\n",
    "    Args:\n",
    "        n: Integer number\n",
    "\n",
    "    Returns:\n",
    "        s: Sum of integers from 1 to n\n",
    "    \"\"\"\n",
    "    s = 0\n",
    "    for n in range(1, n+1):\n",
    "        s = s + n\n",
    "    return s\n",
    "\n",
    "n = 1\n",
    "while sum_n(n) <= 100:\n",
    "    print(f'n= {n}, s={sum_n(n)}')\n",
    "    n += 1"
   ]
  },
  {
   "cell_type": "markdown",
   "metadata": {},
   "source": [
    "Rather than using a <code>for</code>-loop, one may think more efficient functions to compute this sum. In the following code cell, we consider the function <code>sum_n_numpy</code> that is based on the efficient NumPy-function <code>np.sum</code>. Furthermore, we consider the function <code>sum_n_math</code> which uses a closed mathematical formula for calculating the sum. We then measure and compare the execution time for the three different implementations. To this end, we use the Python module [<code>timeit</code>](https://docs.python.org/2/library/timeit.html), which provides a simple way to measure the execution time of small bits of Python code. As an alternative, one may also use the function <code>time.time()</code> of the module [<code>time</code>](https://docs.python.org/3/library/time.html).\n"
   ]
  },
  {
   "cell_type": "code",
   "execution_count": 10,
   "metadata": {
    "execution": {
     "iopub.execute_input": "2021-09-23T10:11:22.697681Z",
     "iopub.status.busy": "2021-09-23T10:11:22.696898Z",
     "iopub.status.idle": "2021-09-23T10:11:23.367947Z",
     "shell.execute_reply": "2021-09-23T10:11:23.368645Z"
    }
   },
   "outputs": [
    {
     "name": "stdout",
     "output_type": "stream",
     "text": [
      "Computation with sum_n:       n=1000, s=500500\n",
      "Computation with sum_n_numpy: n=1000, s=500500\n",
      "Computation with sum_n_math:  n=1000, s=500500\n",
      "Runtime for sum_n: 0.587777 ms\n",
      "Runtime for sum_n_numpy: 0.026138 ms\n",
      "Runtime for sum_n_math: 0.000308 ms\n"
     ]
    }
   ],
   "source": [
    "import numpy as np\n",
    "\n",
    "def sum_n_numpy(n):\n",
    "    \"\"\"Function that sums up the integers from 1 to n  using numpy\n",
    "\n",
    "    Notebook: PCP_control.ipynb\n",
    "\n",
    "    Args:\n",
    "        n: Integer number\n",
    "\n",
    "    Returns:\n",
    "        s: Sum of integers from 1 to n\n",
    "    \"\"\"\n",
    "    s = np.sum(np.arange(1, n+1))\n",
    "    return s    \n",
    "\n",
    "def sum_n_math(n):\n",
    "    \"\"\"Function that sums up the integers from 1 to n using the idea by Gauss\n",
    "\n",
    "    Notebook: PCP_control.ipynb\n",
    "\n",
    "    Args:\n",
    "        n: Integer number\n",
    "\n",
    "    Returns:\n",
    "        s: Sum of integers from 1 to n\n",
    "    \"\"\"\n",
    "    s = n * (n + 1) // 2\n",
    "    return s   \n",
    "\n",
    "n = 1000\n",
    "print(f'Computation with sum_n:       n={n}, s={sum_n(n)}')\n",
    "print(f'Computation with sum_n_numpy: n={n}, s={sum_n_numpy(n)}')\n",
    "print(f'Computation with sum_n_math:  n={n}, s={sum_n_math(n)}')\n",
    "\n",
    "# Measuring runtime of different implementations \n",
    "import timeit\n",
    "executions = 100\n",
    "n = 10000\n",
    "runtime_av = timeit.timeit(lambda: sum_n(n), number=executions) / executions\n",
    "print(f'Runtime for sum_n: {runtime_av * 1000:.6f} ms')\n",
    "\n",
    "runtime_av = timeit.timeit(lambda: sum_n_numpy(n), number=executions) / executions\n",
    "print(f'Runtime for sum_n_numpy: {runtime_av * 1000:.6f} ms')\n",
    "\n",
    "runtime_av = timeit.timeit(lambda: sum_n_math(n), number=executions) / executions\n",
    "print(f'Runtime for sum_n_math: {runtime_av * 1000:.6f} ms')"
   ]
  },
  {
   "cell_type": "markdown",
   "metadata": {},
   "source": [
    "<div class=\"alert alert-block alert-warning\">\n",
    "<strong>Note:</strong> In Python programming, one can use the concept of lambda expressions when an anonymous one-line function is needed temporarily in a specific setting. Such a function takes the form <code>lambda args: expression</code>, where the expression is executed and the result is returned. For more details we refer to the <a href=\"https://docs.python.org/3/reference/expressions.html\">Python Documentation</a>.\n",
    "</div>"
   ]
  },
  {
   "cell_type": "markdown",
   "metadata": {},
   "source": [
    "## Exercises and Results"
   ]
  },
  {
   "cell_type": "code",
   "execution_count": 11,
   "metadata": {
    "execution": {
     "iopub.execute_input": "2021-09-23T10:11:23.373102Z",
     "iopub.status.busy": "2021-09-23T10:11:23.372262Z",
     "iopub.status.idle": "2021-09-23T10:11:23.381529Z",
     "shell.execute_reply": "2021-09-23T10:11:23.383549Z"
    }
   },
   "outputs": [],
   "source": [
    "import libpcp.control\n",
    "show_result = True"
   ]
  },
  {
   "cell_type": "markdown",
   "metadata": {},
   "source": [
    "<a id='exercise_give_number'></a>\n",
    "<div class=\"alert alert-block alert-info\">\n",
    "<strong>Exercise 1: Function <code>give_me_a_number</code></strong><br>\n",
    "Write a function <code>give_me_a_number</code> that has a string variable <code>s</code> as input argument. When <code>s</code> is the string <code>'large'</code>, the function should return the value $2^{100}$. If <code>s</code> is <code>'small'</code>, it should return $2^{-100}$. If <code>s</code> is <code>'random'</code>, it should return a random number in the range $[0,1)$ (using <code>np.random.rand</code>). In all other cases, the function should return <code>np.nan</code>. As default, set the input argument to the string <code>'nan'</code>.\n",
    "</div>"
   ]
  },
  {
   "cell_type": "code",
   "execution_count": 12,
   "metadata": {
    "execution": {
     "iopub.execute_input": "2021-09-23T10:11:23.388371Z",
     "iopub.status.busy": "2021-09-23T10:11:23.387363Z",
     "iopub.status.idle": "2021-09-23T10:11:23.389873Z",
     "shell.execute_reply": "2021-09-23T10:11:23.390565Z"
    }
   },
   "outputs": [],
   "source": [
    "#<solution>\n",
    "# Your Solution\n",
    "#</solution>"
   ]
  },
  {
   "cell_type": "code",
   "execution_count": 13,
   "metadata": {
    "execution": {
     "iopub.execute_input": "2021-09-23T10:11:23.395564Z",
     "iopub.status.busy": "2021-09-23T10:11:23.394811Z",
     "iopub.status.idle": "2021-09-23T10:11:23.397648Z",
     "shell.execute_reply": "2021-09-23T10:11:23.398428Z"
    }
   },
   "outputs": [
    {
     "name": "stdout",
     "output_type": "stream",
     "text": [
      "default:    nan\n",
      "s='large':  1267650600228229401496703205376\n",
      "s='small':  7.888609052210118e-31\n",
      "s='random': 0.7874562336060066\n",
      "s='test':   nan\n"
     ]
    }
   ],
   "source": [
    "libpcp.control.exercise_give_number(show_result=show_result)"
   ]
  },
  {
   "cell_type": "markdown",
   "metadata": {},
   "source": [
    "<a id='exercise_row_mean'></a>\n",
    "<div class=\"alert alert-block alert-info\">\n",
    "<strong>Exercise 2: Function for Computing Row Mean</strong><br>\n",
    "Write a function <code>row_mean</code> that inputs a matrix and outputs a vector containing the row-wise means (averages) of the input matrix. Apply the function to the matrix matrix $\\mathbf{A} = \\begin{bmatrix}1 & 2 & 6 \\\\5 & 5 & 2\\\\\\end{bmatrix}$.\n",
    "</div>"
   ]
  },
  {
   "cell_type": "code",
   "execution_count": 14,
   "metadata": {
    "execution": {
     "iopub.execute_input": "2021-09-23T10:11:23.404414Z",
     "iopub.status.busy": "2021-09-23T10:11:23.402055Z",
     "iopub.status.idle": "2021-09-23T10:11:23.405867Z",
     "shell.execute_reply": "2021-09-23T10:11:23.406613Z"
    }
   },
   "outputs": [],
   "source": [
    "#<solution>\n",
    "# Your Solution\n",
    "#</solution>"
   ]
  },
  {
   "cell_type": "code",
   "execution_count": 15,
   "metadata": {
    "execution": {
     "iopub.execute_input": "2021-09-23T10:11:23.411926Z",
     "iopub.status.busy": "2021-09-23T10:11:23.411139Z",
     "iopub.status.idle": "2021-09-23T10:11:23.413779Z",
     "shell.execute_reply": "2021-09-23T10:11:23.414485Z"
    }
   },
   "outputs": [
    {
     "name": "stdout",
     "output_type": "stream",
     "text": [
      "Input matrix:\n",
      "[[1 2 6]\n",
      " [5 5 2]]\n",
      "Vector containing the row means:  [3. 4.]\n"
     ]
    }
   ],
   "source": [
    "libpcp.control.exercise_row_mean(show_result=show_result)"
   ]
  },
  {
   "cell_type": "markdown",
   "metadata": {},
   "source": [
    "<a id='exercise_odd'></a>\n",
    "<div class=\"alert alert-block alert-info\">\n",
    "<strong>Exercise 3: Function for Computing Odd-Index Vector</strong><br>\n",
    "Given a vector <code>x</code> (in form of a one-dimensional NumPy array), write a function <code>vector_odd_index</code> that outputs a vector <code>y</code> consisting only of the elements of <code>x</code> at an odd index position. If the input NumPy array <code>x</code> is not a vector, the function <code>vector_odd_index</code> should output <code>y=None</code>. <br>\n",
    "<strong>Note:</strong> Recall that Python indexing starts with index <code>0</code> (which is an even index).\n",
    "</div>"
   ]
  },
  {
   "cell_type": "code",
   "execution_count": 16,
   "metadata": {
    "execution": {
     "iopub.execute_input": "2021-09-23T10:11:23.418809Z",
     "iopub.status.busy": "2021-09-23T10:11:23.418133Z",
     "iopub.status.idle": "2021-09-23T10:11:23.420210Z",
     "shell.execute_reply": "2021-09-23T10:11:23.420915Z"
    }
   },
   "outputs": [],
   "source": [
    "#<solution>\n",
    "# Your Solution\n",
    "#</solution>"
   ]
  },
  {
   "cell_type": "code",
   "execution_count": 17,
   "metadata": {
    "execution": {
     "iopub.execute_input": "2021-09-23T10:11:23.427034Z",
     "iopub.status.busy": "2021-09-23T10:11:23.426209Z",
     "iopub.status.idle": "2021-09-23T10:11:23.429412Z",
     "shell.execute_reply": "2021-09-23T10:11:23.430106Z"
    }
   },
   "outputs": [
    {
     "name": "stdout",
     "output_type": "stream",
     "text": [
      "x = [0 1 2 3 4 5 6 7 8 9]\n",
      "y = [1 3 5 7 9]\n",
      "x = [[0 1 2 3 4 5 6 7 8 9]]\n",
      "y = None\n",
      "x =\n",
      "[[1 2 3]\n",
      " [4 5 6]]\n",
      "y = None\n"
     ]
    }
   ],
   "source": [
    "libpcp.control.exercise_odd(show_result=show_result)"
   ]
  },
  {
   "cell_type": "markdown",
   "metadata": {},
   "source": [
    "<a id='exercise_isprime'></a>\n",
    "<div class=\"alert alert-block alert-info\">\n",
    "<strong>Exercise 4: Primality Test</strong><br>\n",
    "An integer $n\\in\\mathbb{N}$ is called a <strong>prime number</strong> if $n>1$ and if $n$ is divisible only by $1$ and itself. Write a function <code>isprime</code> that inputs an integer <code>n</code> and outputs the boolean value <code>True</code> if <code>n</code> is a prime number and <code>False</code> otherwise. \n",
    "<ul>\n",
    "<li> Test your function for $n=1$, $n=17$, $n=1221$, and $n=1223$.</li> \n",
    "<li> Use this function to output the first $20$ prime numbers. </li> \n",
    "<li> Discuss efficiency issues. Is there a more efficient way to compute the first $20$ prime numbers?</li>\n",
    "<li> Have a look at the algorithm <a href=\"https://en.wikipedia.org/wiki/Sieve_of_Eratosthenes\"><strong>Sieve of Eratosthenes</strong></a>, which is an ancient algorithm for finding all prime numbers up to any given limit.</li>        \n",
    "</ul>      \n",
    "</div>"
   ]
  },
  {
   "cell_type": "code",
   "execution_count": 18,
   "metadata": {
    "execution": {
     "iopub.execute_input": "2021-09-23T10:11:23.434642Z",
     "iopub.status.busy": "2021-09-23T10:11:23.433909Z",
     "iopub.status.idle": "2021-09-23T10:11:23.436261Z",
     "shell.execute_reply": "2021-09-23T10:11:23.436975Z"
    }
   },
   "outputs": [],
   "source": [
    "#<solution>\n",
    "# Your Solution\n",
    "#</solution>"
   ]
  },
  {
   "cell_type": "code",
   "execution_count": 19,
   "metadata": {
    "execution": {
     "iopub.execute_input": "2021-09-23T10:11:23.451212Z",
     "iopub.status.busy": "2021-09-23T10:11:23.450483Z",
     "iopub.status.idle": "2021-09-23T10:11:23.453090Z",
     "shell.execute_reply": "2021-09-23T10:11:23.453832Z"
    }
   },
   "outputs": [
    {
     "name": "stdout",
     "output_type": "stream",
     "text": [
      "n = 1, isprime = False\n",
      "n = 17, isprime = True\n",
      "n = 1221, isprime = False\n",
      "n = 1223, isprime = True\n",
      "List of first 20 prime numbers:\n",
      "2 3 5 7 11 13 17 19 23 29 31 37 41 43 47 53 59 61 67 71 "
     ]
    }
   ],
   "source": [
    "libpcp.control.exercise_isprime(show_result=show_result)"
   ]
  },
  {
   "cell_type": "markdown",
   "metadata": {},
   "source": [
    "<a id='exercise_root'></a>\n",
    "<div class=\"alert alert-block alert-info\">\n",
    "<strong>Exercise 5: Function for Root Finding</strong><br>\n",
    "Let $f:\\mathbb{R}\\to\\mathbb{R}$ be a continuous function and let $a,b\\in\\mathbb{R}$ be two numbers such that $a<b$ and $f(a)$ and $f(b)$ have opposite signs. Then $f$ has a <strong>root</strong> in the interval $[a,b]$. In other words, there is a number $r\\in[a,b]$ such that $f(r)=0$. To find such a root, one can proceed as follows: \n",
    "<ul>\n",
    "<li> Let $c = (a+b)/2$ be the center. If $f(a)=0$, $f(b)=0$, or $f(c)=0$, then we have found a root and we can stop. </li> \n",
    "<li> Otherwise, either $f(a)$ and $f(c)$, or $f(c)$ and $f(b)$ have opposite signs. In the first case, continue with the interval $[a,c]$, otherwise with the interval $[c,b]$.</li> \n",
    "<li> Iterate this interval-halving procedure until the interval size is below a given threshold parameter (e.g., $10^{-5}$) and a sufficient approximation for the root is obtained.</li>\n",
    "</ul>  \n",
    "    \n",
    "Write a function <code>search_root</code> that implements this procedure (also known as <strong>bisection method</strong>). The input arguments should be <code>f</code>, <code>a</code>, <code>b</code>, and <code>thresh</code>. Here, <code>f</code> is a Python function realizing a continuous function $f:\\mathbb{R}\\to\\mathbb{R}$. The parameter <code>thresh</code> is the threshold parameter, which should be set to the value $10^{-5}$ by default. The function <code>search_root</code> should check if <code>a < b</code> and if the opposite sign condition for <code>f(a)</code> and <code>f(b)</code> is fulfilled (if not it should return the value <code>np.nan</code>). \n",
    "\n",
    "<ul>\n",
    "<li> Evaluate <code>search_root</code> for <code>f</code> given by $f(x) = x^2-2$, <code>a=0</code>, and <code>b=2</code>. <br>(Note: You may define a separate Python function <code>f</code> that implements  $f(x) = x^2-2$. This function can then be used as one of the input argument to the Python function <code>search_root</code>.)</li> \n",
    "<li> Test <code>search_root</code> for the same function when using <code>a=2</code> and <code>b=4</code>.  </li>  \n",
    "<li> Test <code>search_root</code> for the same function when using <code>a=4</code> and <code>b=2</code>.  </li>    \n",
    "<li> Evaluate <code>search_root</code> for <code>f</code> being <code>np.sin</code> using <code>a=3</code> and <code>b=4</code>. </li> \n",
    "</ul>\n",
    "</div>"
   ]
  },
  {
   "cell_type": "markdown",
   "metadata": {},
   "source": [
    "<div class=\"alert alert-block alert-warning\">\n",
    "<strong>Note:</strong> In this exercise, we draw attention to the fact that the argument of a Python function (e.g., <code>search_root</code>) can be a function itself (e.g., <code>f</code>). In Python, a function is simply an object that can be referred to in the same way one refers to a number, a string, or a list. For further explanations, we refer to the article on <a href=\"https://treyhunner.com/2020/01/passing-functions-as-arguments/\">Passing a function as an argument to another function in Python</a>.  \n",
    "</div>"
   ]
  },
  {
   "cell_type": "code",
   "execution_count": 20,
   "metadata": {
    "execution": {
     "iopub.execute_input": "2021-09-23T10:11:23.458031Z",
     "iopub.status.busy": "2021-09-23T10:11:23.457215Z",
     "iopub.status.idle": "2021-09-23T10:11:23.459908Z",
     "shell.execute_reply": "2021-09-23T10:11:23.461327Z"
    }
   },
   "outputs": [],
   "source": [
    "#<solution>\n",
    "# Your Solution\n",
    "#</solution>"
   ]
  },
  {
   "cell_type": "code",
   "execution_count": 21,
   "metadata": {
    "execution": {
     "iopub.execute_input": "2021-09-23T10:11:23.469235Z",
     "iopub.status.busy": "2021-09-23T10:11:23.467877Z",
     "iopub.status.idle": "2021-09-23T10:11:23.472555Z",
     "shell.execute_reply": "2021-09-23T10:11:23.473332Z"
    }
   },
   "outputs": [
    {
     "name": "stdout",
     "output_type": "stream",
     "text": [
      "=== Function f(x) = x**2-2 ===\n",
      "a = 0.000000, b = 2.000000, c = 1.000000, f(a) = -2.000000, f(b) = 2.000000, f(c) = -1.000000\n",
      "a = 1.000000, b = 2.000000, c = 1.500000, f(a) = -1.000000, f(b) = 2.000000, f(c) = 0.250000\n",
      "a = 1.000000, b = 1.500000, c = 1.250000, f(a) = -1.000000, f(b) = 0.250000, f(c) = -0.437500\n",
      "a = 1.250000, b = 1.500000, c = 1.375000, f(a) = -0.437500, f(b) = 0.250000, f(c) = -0.109375\n",
      "a = 1.375000, b = 1.500000, c = 1.437500, f(a) = -0.109375, f(b) = 0.250000, f(c) = 0.066406\n",
      "a = 1.375000, b = 1.437500, c = 1.406250, f(a) = -0.109375, f(b) = 0.066406, f(c) = -0.022461\n",
      "a = 1.406250, b = 1.437500, c = 1.421875, f(a) = -0.022461, f(b) = 0.066406, f(c) = 0.021729\n",
      "a = 1.406250, b = 1.421875, c = 1.414062, f(a) = -0.022461, f(b) = 0.021729, f(c) = -0.000427\n",
      "a = 1.414062, b = 1.421875, c = 1.417969, f(a) = -0.000427, f(b) = 0.021729, f(c) = 0.010635\n",
      "a = 1.414062, b = 1.417969, c = 1.416016, f(a) = -0.000427, f(b) = 0.010635, f(c) = 0.005100\n",
      "a = 1.414062, b = 1.416016, c = 1.415039, f(a) = -0.000427, f(b) = 0.005100, f(c) = 0.002336\n",
      "a = 1.414062, b = 1.415039, c = 1.414551, f(a) = -0.000427, f(b) = 0.002336, f(c) = 0.000954\n",
      "a = 1.414062, b = 1.414551, c = 1.414307, f(a) = -0.000427, f(b) = 0.000954, f(c) = 0.000263\n",
      "a = 1.414062, b = 1.414307, c = 1.414185, f(a) = -0.000427, f(b) = 0.000263, f(c) = -0.000082\n",
      "a = 1.414185, b = 1.414307, c = 1.414246, f(a) = -0.000082, f(b) = 0.000263, f(c) = 0.000091\n",
      "a = 1.414185, b = 1.414246, c = 1.414215, f(a) = -0.000082, f(b) = 0.000091, f(c) = 0.000004\n",
      "a = 1.414185, b = 1.414215, c = 1.414200, f(a) = -0.000082, f(b) = 0.000004, f(c) = -0.000039\n",
      "a = 1.414200, b = 1.414215, c = 1.414207, f(a) = -0.000039, f(b) = 0.000004, f(c) = -0.000017\n",
      "Root r = 1.414207, f(r) = -0.000017\n",
      "=== Function f(x) = x**2-2 ===\n",
      "a = 2.000000, b = 4.000000, f(a) = 2.000000, f(b) = 14.000000\n",
      "Sign condition not fulfilled\n",
      "Root r = nan, f(r) = nan\n",
      "=== Function f(x) = x**2-2 ===\n",
      "a = 4.000000, b = 2.000000\n",
      "Interval not valid.\n",
      "Root r = nan, f(r) = nan\n",
      "=== Function f(x) = sin(x) ===\n",
      "a = 3.000000, b = 4.000000, c = 3.500000, f(a) = 0.141120, f(b) = -0.756802, f(c) = -0.350783\n",
      "a = 3.000000, b = 3.500000, c = 3.250000, f(a) = 0.141120, f(b) = -0.350783, f(c) = -0.108195\n",
      "a = 3.000000, b = 3.250000, c = 3.125000, f(a) = 0.141120, f(b) = -0.108195, f(c) = 0.016592\n",
      "a = 3.125000, b = 3.250000, c = 3.187500, f(a) = 0.016592, f(b) = -0.108195, f(c) = -0.045891\n",
      "a = 3.125000, b = 3.187500, c = 3.156250, f(a) = 0.016592, f(b) = -0.045891, f(c) = -0.014657\n",
      "a = 3.125000, b = 3.156250, c = 3.140625, f(a) = 0.016592, f(b) = -0.014657, f(c) = 0.000968\n",
      "a = 3.140625, b = 3.156250, c = 3.148438, f(a) = 0.000968, f(b) = -0.014657, f(c) = -0.006845\n",
      "a = 3.140625, b = 3.148438, c = 3.144531, f(a) = 0.000968, f(b) = -0.006845, f(c) = -0.002939\n",
      "a = 3.140625, b = 3.144531, c = 3.142578, f(a) = 0.000968, f(b) = -0.002939, f(c) = -0.000985\n",
      "a = 3.140625, b = 3.142578, c = 3.141602, f(a) = 0.000968, f(b) = -0.000985, f(c) = -0.000009\n",
      "a = 3.140625, b = 3.141602, c = 3.141113, f(a) = 0.000968, f(b) = -0.000009, f(c) = 0.000479\n",
      "a = 3.141113, b = 3.141602, c = 3.141357, f(a) = 0.000479, f(b) = -0.000009, f(c) = 0.000235\n",
      "a = 3.141357, b = 3.141602, c = 3.141479, f(a) = 0.000235, f(b) = -0.000009, f(c) = 0.000113\n",
      "a = 3.141479, b = 3.141602, c = 3.141541, f(a) = 0.000113, f(b) = -0.000009, f(c) = 0.000052\n",
      "a = 3.141541, b = 3.141602, c = 3.141571, f(a) = 0.000052, f(b) = -0.000009, f(c) = 0.000022\n",
      "a = 3.141571, b = 3.141602, c = 3.141586, f(a) = 0.000022, f(b) = -0.000009, f(c) = 0.000006\n",
      "a = 3.141586, b = 3.141602, c = 3.141594, f(a) = 0.000006, f(b) = -0.000009, f(c) = -0.000001\n",
      "Root r = 3.141594, sin(r) = -0.000001\n"
     ]
    }
   ],
   "source": [
    "libpcp.control.exercise_root(show_result=show_result)"
   ]
  },
  {
   "cell_type": "markdown",
   "metadata": {},
   "source": [
    "<div>\n",
    "<a href=\"https://opensource.org/licenses/MIT\"><img src=\"data_layout/PCP_License.png\" width=100% style=\"float: right;\" alt=\"PCP License\"></a>\n",
    "</div>"
   ]
  }
 ],
 "metadata": {
  "anaconda-cloud": {},
  "kernelspec": {
   "display_name": "Python 3",
   "language": "python",
   "name": "python3"
  },
  "language_info": {
   "codemirror_mode": {
    "name": "ipython",
    "version": 3
   },
   "file_extension": ".py",
   "mimetype": "text/x-python",
   "name": "python",
   "nbconvert_exporter": "python",
   "pygments_lexer": "ipython3",
   "version": "3.7.11"
  },
  "toc": {
   "base_numbering": 1,
   "nav_menu": {},
   "number_sections": true,
   "sideBar": true,
   "skip_h1_title": false,
   "title_cell": "Table of Contents",
   "title_sidebar": "Contents",
   "toc_cell": false,
   "toc_position": {},
   "toc_section_display": true,
   "toc_window_display": false
  }
 },
 "nbformat": 4,
 "nbformat_minor": 1
}
