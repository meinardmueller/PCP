{
 "cells": [
  {
   "cell_type": "markdown",
   "metadata": {},
   "source": [
    "<div>\n",
    "<a href=\"https://www.audiolabs-erlangen.de/fau/professor/mueller\"><img src=\"data_layout/PCP_Teaser.png\" width=100% style=\"float: right;\" alt=\"PCP Teaser\"></a>\n",
    "</div>"
   ]
  },
  {
   "cell_type": "markdown",
   "metadata": {},
   "source": [
    "# Unit 3: NumPy Basics\n",
    "\n",
    "<ul>\n",
    "    <li><a href='#learn'>Overview and Learning Objectives</a></li>  \n",
    "    <li><a href='#module'>NumPy Module</a></li>    \n",
    "    <li><a href='#numpy'>NumPy Arrays</a></li>\n",
    "    <li><a href='#reshape'>Array Reshaping</a></li>\n",
    "    <li><a href='#operation'>Array Operations</a></li>    \n",
    "    <li><a href='#type'>NumPy Type Conversion</a></li>    \n",
    "    <li><a href='#constants'>NumPy Constants</a></li>        \n",
    "    <li><a href='#exercise_numpy_array'>Exercise 1:  NumPy Array Manipulations</a></li>\n",
    "    <li><a href='#recap_matrix'>Recap: Matrices and Basic Operations</a></li>        \n",
    "    <li><a href='#exercise_matrix_operation'>Exercise 2: Matrix Operations</a></li>        \n",
    "    <li><a href='#exercise_numpy_math_function'>Exercise 3: Mathematical Functions</a></li>     \n",
    "</ul>     "
   ]
  },
  {
   "cell_type": "markdown",
   "metadata": {},
   "source": [
    "<a id='learn'></a> \n",
    "<div class=\"alert alert-block alert-warning\">\n",
    "<h2>Overview and Learning Objectives</h2>\n",
    "\n",
    "Python has several useful built-in packages as well as additional external packages. One such package is <a href='https://docs.scipy.org/doc/numpy/reference/'>NumPy</a>, which adds support for multi-dimensional arrays and matrices, along with a number of mathematical functions to operate on these structures. This unit covers array objects as the most fundamental NumPy data structure along with important NumPy array operations. Furthermore, we discuss numerical types, methods for type conversion, and constants (including the constants `nan` and `inf`) offered by NumPy. The three exercises included at the end of this unit cover key aspects needed throughout the PCP notebooks. Therefore, we encourage students to work through these exercises carefully. In particular, we <a href='#recap_matrix'>recapitulate the mathematical concept of matrices and matrix multiplication</a>, before we cover these aspects in <a href='#exercise_matrix_operation'>Exercise 2</a> from an implementation perspective. We believe that understanding both&mdash;the mathematical formulation of abstract concepts and their realization in a programming context&mdash;is key in engineering education. This philosophy also forms the basis of the PCP notebooks to follow.       \n",
    "    \n",
    "</div> "
   ]
  },
  {
   "cell_type": "markdown",
   "metadata": {},
   "source": [
    "<a id='module'></a>\n",
    "## NumPy Module\n",
    "\n",
    "As said above, NumPy is a Python library used for working with arrays. In principle, one can also use the Python concept of lists to model an array. However, processing such lists is usually slow. Being mostly written in C or C++ and storing arrays at continuous places in memory (unlike lists), NumPy can process and compute with arrays in a very efficient way. This is the reason why NumPy is so powerful. In order to use NumPy, one needs to install the `numpy` package. This is what we already did when we created the [PCP Environment](PCP_01_getstarted.html), which contains a `numpy`-version. Furthermore, we need to use the Python `import` statement to get access to the NumPy functions. It is convenient to assign a short name to a frequently-used package (for example `np` in the case of `numpy`). This short name is used as a prefix when calling a function from the package. In the following code cell, we import `numpy` as `np`. To find out what the `numpy`-module contains, we use the Python command `dir(np)` to return a list all properties and methods of the specified module."
   ]
  },
  {
   "cell_type": "code",
   "execution_count": 1,
   "metadata": {
    "execution": {
     "iopub.execute_input": "2021-09-23T10:11:33.674197Z",
     "iopub.status.busy": "2021-09-23T10:11:33.673427Z",
     "iopub.status.idle": "2021-09-23T10:11:34.000883Z",
     "shell.execute_reply": "2021-09-23T10:11:34.001662Z"
    }
   },
   "outputs": [
    {
     "name": "stdout",
     "output_type": "stream",
     "text": [
      "['ALLOW_THREADS', 'AxisError', 'BUFSIZE', 'CLIP', 'ComplexWarning', 'DataSource', 'ERR_CALL', 'ERR_DEFAULT', 'ERR_IGNORE', 'ERR_LOG', 'ERR_PRINT', 'ERR_RAISE', 'ERR_WARN', 'FLOATING_POINT_SUPPORT', 'FPE_DIVIDEBYZERO', 'FPE_INVALID', 'FPE_OVERFLOW', 'FPE_UNDERFLOW', 'False_', 'Inf', 'Infinity', 'MAXDIMS', 'MAY_SHARE_BOUNDS', 'MAY_SHARE_EXACT', 'MachAr', 'ModuleDeprecationWarning', 'NAN', 'NINF', 'NZERO', 'NaN', 'PINF', 'PZERO', 'RAISE', 'RankWarning', 'SHIFT_DIVIDEBYZERO', 'SHIFT_INVALID', 'SHIFT_OVERFLOW', 'SHIFT_UNDERFLOW', 'ScalarType', 'Tester', 'TooHardError', 'True_', 'UFUNC_BUFSIZE_DEFAULT', 'UFUNC_PYVALS_NAME', 'VisibleDeprecationWarning', 'WRAP', '_NoValue', '_UFUNC_API', '__NUMPY_SETUP__', '__all__', '__builtins__', '__cached__', '__config__', '__doc__', '__file__', '__git_revision__', '__loader__', '__mkl_version__', '__name__', '__package__', '__path__', '__spec__', '__version__', '_add_newdoc_ufunc', '_distributor_init', '_globals', '_mat', '_pytesttester', 'abs', 'absolute', 'absolute_import', 'add', 'add_docstring', 'add_newdoc', 'add_newdoc_ufunc', 'alen', 'all', 'allclose', 'alltrue', 'amax', 'amin', 'angle', 'any', 'append', 'apply_along_axis', 'apply_over_axes', 'arange', 'arccos', 'arccosh', 'arcsin', 'arcsinh', 'arctan', 'arctan2', 'arctanh', 'argmax', 'argmin', 'argpartition', 'argsort', 'argwhere', 'around', 'array', 'array2string', 'array_equal', 'array_equiv', 'array_repr', 'array_split', 'array_str', 'asanyarray', 'asarray', 'asarray_chkfinite', 'ascontiguousarray', 'asfarray', 'asfortranarray', 'asmatrix', 'asscalar', 'atleast_1d', 'atleast_2d', 'atleast_3d', 'average', 'bartlett', 'base_repr', 'binary_repr', 'bincount', 'bitwise_and', 'bitwise_not', 'bitwise_or', 'bitwise_xor', 'blackman', 'block', 'bmat', 'bool', 'bool8', 'bool_', 'broadcast', 'broadcast_arrays', 'broadcast_to', 'busday_count', 'busday_offset', 'busdaycalendar', 'byte', 'byte_bounds', 'bytes0', 'bytes_', 'c_', 'can_cast', 'cast', 'cbrt', 'cdouble', 'ceil', 'cfloat', 'char', 'character', 'chararray', 'choose', 'clip', 'clongdouble', 'clongfloat', 'column_stack', 'common_type', 'compare_chararrays', 'compat', 'complex', 'complex128', 'complex256', 'complex64', 'complex_', 'complexfloating', 'compress', 'concatenate', 'conj', 'conjugate', 'convolve', 'copy', 'copysign', 'copyto', 'core', 'corrcoef', 'correlate', 'cos', 'cosh', 'count_nonzero', 'cov', 'cross', 'csingle', 'ctypeslib', 'cumprod', 'cumproduct', 'cumsum', 'datetime64', 'datetime_as_string', 'datetime_data', 'deg2rad', 'degrees', 'delete', 'deprecate', 'deprecate_with_doc', 'diag', 'diag_indices', 'diag_indices_from', 'diagflat', 'diagonal', 'diff', 'digitize', 'disp', 'divide', 'division', 'divmod', 'dot', 'double', 'dsplit', 'dstack', 'dtype', 'e', 'ediff1d', 'einsum', 'einsum_path', 'emath', 'empty', 'empty_like', 'equal', 'errstate', 'euler_gamma', 'exp', 'exp2', 'expand_dims', 'expm1', 'extract', 'eye', 'fabs', 'fastCopyAndTranspose', 'fft', 'fill_diagonal', 'find_common_type', 'finfo', 'fix', 'flatiter', 'flatnonzero', 'flexible', 'flip', 'fliplr', 'flipud', 'float', 'float128', 'float16', 'float32', 'float64', 'float_', 'float_power', 'floating', 'floor', 'floor_divide', 'fmax', 'fmin', 'fmod', 'format_float_positional', 'format_float_scientific', 'format_parser', 'frexp', 'frombuffer', 'fromfile', 'fromfunction', 'fromiter', 'frompyfunc', 'fromregex', 'fromstring', 'full', 'full_like', 'fv', 'gcd', 'generic', 'genfromtxt', 'geomspace', 'get_array_wrap', 'get_include', 'get_printoptions', 'getbufsize', 'geterr', 'geterrcall', 'geterrobj', 'gradient', 'greater', 'greater_equal', 'half', 'hamming', 'hanning', 'heaviside', 'histogram', 'histogram2d', 'histogram_bin_edges', 'histogramdd', 'hsplit', 'hstack', 'hypot', 'i0', 'identity', 'iinfo', 'imag', 'in1d', 'index_exp', 'indices', 'inexact', 'inf', 'info', 'infty', 'inner', 'insert', 'int', 'int0', 'int16', 'int32', 'int64', 'int8', 'int_', 'int_asbuffer', 'intc', 'integer', 'interp', 'intersect1d', 'intp', 'invert', 'ipmt', 'irr', 'is_busday', 'isclose', 'iscomplex', 'iscomplexobj', 'isfinite', 'isfortran', 'isin', 'isinf', 'isnan', 'isnat', 'isneginf', 'isposinf', 'isreal', 'isrealobj', 'isscalar', 'issctype', 'issubclass_', 'issubdtype', 'issubsctype', 'iterable', 'ix_', 'kaiser', 'kron', 'lcm', 'ldexp', 'left_shift', 'less', 'less_equal', 'lexsort', 'lib', 'linalg', 'linspace', 'little_endian', 'load', 'loads', 'loadtxt', 'log', 'log10', 'log1p', 'log2', 'logaddexp', 'logaddexp2', 'logical_and', 'logical_not', 'logical_or', 'logical_xor', 'logspace', 'long', 'longcomplex', 'longdouble', 'longfloat', 'longlong', 'lookfor', 'ma', 'mafromtxt', 'mask_indices', 'mat', 'math', 'matmul', 'matrix', 'matrixlib', 'max', 'maximum', 'maximum_sctype', 'may_share_memory', 'mean', 'median', 'memmap', 'meshgrid', 'mgrid', 'min', 'min_scalar_type', 'minimum', 'mintypecode', 'mirr', 'mkl', 'mod', 'modf', 'moveaxis', 'msort', 'multiply', 'nan', 'nan_to_num', 'nanargmax', 'nanargmin', 'nancumprod', 'nancumsum', 'nanmax', 'nanmean', 'nanmedian', 'nanmin', 'nanpercentile', 'nanprod', 'nanquantile', 'nanstd', 'nansum', 'nanvar', 'nbytes', 'ndarray', 'ndenumerate', 'ndfromtxt', 'ndim', 'ndindex', 'nditer', 'negative', 'nested_iters', 'newaxis', 'nextafter', 'nonzero', 'not_equal', 'nper', 'npv', 'numarray', 'number', 'obj2sctype', 'object', 'object0', 'object_', 'ogrid', 'oldnumeric', 'ones', 'ones_like', 'os', 'outer', 'packbits', 'pad', 'partition', 'percentile', 'pi', 'piecewise', 'place', 'pmt', 'poly', 'poly1d', 'polyadd', 'polyder', 'polydiv', 'polyfit', 'polyint', 'polymul', 'polynomial', 'polysub', 'polyval', 'positive', 'power', 'ppmt', 'print_function', 'printoptions', 'prod', 'product', 'promote_types', 'ptp', 'put', 'put_along_axis', 'putmask', 'pv', 'quantile', 'r_', 'rad2deg', 'radians', 'random', 'rank', 'rate', 'ravel', 'ravel_multi_index', 'real', 'real_if_close', 'rec', 'recarray', 'recfromcsv', 'recfromtxt', 'reciprocal', 'record', 'remainder', 'repeat', 'require', 'reshape', 'resize', 'result_type', 'right_shift', 'rint', 'roll', 'rollaxis', 'roots', 'rot90', 'round', 'round_', 'row_stack', 's_', 'safe_eval', 'save', 'savetxt', 'savez', 'savez_compressed', 'sctype2char', 'sctypeDict', 'sctypeNA', 'sctypes', 'searchsorted', 'select', 'set_numeric_ops', 'set_printoptions', 'set_string_function', 'setbufsize', 'setdiff1d', 'seterr', 'seterrcall', 'seterrobj', 'setxor1d', 'shape', 'shares_memory', 'short', 'show_config', 'sign', 'signbit', 'signedinteger', 'sin', 'sinc', 'single', 'singlecomplex', 'sinh', 'size', 'sometrue', 'sort', 'sort_complex', 'source', 'spacing', 'split', 'sqrt', 'square', 'squeeze', 'stack', 'std', 'str', 'str0', 'str_', 'string_', 'subtract', 'sum', 'swapaxes', 'sys', 'take', 'take_along_axis', 'tan', 'tanh', 'tensordot', 'test', 'testing', 'tile', 'timedelta64', 'trace', 'tracemalloc_domain', 'transpose', 'trapz', 'tri', 'tril', 'tril_indices', 'tril_indices_from', 'trim_zeros', 'triu', 'triu_indices', 'triu_indices_from', 'true_divide', 'trunc', 'typeDict', 'typeNA', 'typecodes', 'typename', 'ubyte', 'ufunc', 'uint', 'uint0', 'uint16', 'uint32', 'uint64', 'uint8', 'uintc', 'uintp', 'ulonglong', 'unicode', 'unicode_', 'union1d', 'unique', 'unpackbits', 'unravel_index', 'unsignedinteger', 'unwrap', 'ushort', 'vander', 'var', 'vdot', 'vectorize', 'version', 'void', 'void0', 'vsplit', 'vstack', 'warnings', 'where', 'who', 'zeros', 'zeros_like']\n"
     ]
    }
   ],
   "source": [
    "import numpy as np\n",
    "list_numpy_names = dir(np)\n",
    "print(list_numpy_names)"
   ]
  },
  {
   "cell_type": "markdown",
   "metadata": {},
   "source": [
    "<a id='numpy'></a>\n",
    "## NumPy Arrays\n",
    "\n",
    "The fundamental NumPy data structure is an **array** object, which represents a multidimensional, homogeneous array of fixed-size items. Each array has a shape, a type, and a dimension. One way to create a NumPy array is to use the `array`-function. In the following code cells, we provide various examples and discuss basic properties of NumPy arrays. "
   ]
  },
  {
   "cell_type": "code",
   "execution_count": 2,
   "metadata": {
    "execution": {
     "iopub.execute_input": "2021-09-23T10:11:34.010170Z",
     "iopub.status.busy": "2021-09-23T10:11:34.009127Z",
     "iopub.status.idle": "2021-09-23T10:11:34.011953Z",
     "shell.execute_reply": "2021-09-23T10:11:34.012741Z"
    }
   },
   "outputs": [
    {
     "name": "stdout",
     "output_type": "stream",
     "text": [
      "x =  [1 2 3 3]\n",
      "Shape: (4,)\n",
      "Type: int64\n",
      "Dimension: 1\n"
     ]
    }
   ],
   "source": [
    "import numpy as np\n",
    "\n",
    "x = np.array([1, 2, 3, 3])\n",
    "print('x = ', x)\n",
    "print('Shape:', x.shape)\n",
    "print('Type:', x.dtype)\n",
    "print('Dimension:', x.ndim)"
   ]
  },
  {
   "cell_type": "markdown",
   "metadata": {},
   "source": [
    "Note that, in this example, `x.shape` produces a one-element tuple, which is encoded by `(4,)` for disambiguation. (The object `(4)` would be an integer of type `int` rather than a tuple.) Two-dimensional arrays (also called **matrices**) are created like follows:"
   ]
  },
  {
   "cell_type": "code",
   "execution_count": 3,
   "metadata": {
    "execution": {
     "iopub.execute_input": "2021-09-23T10:11:34.018881Z",
     "iopub.status.busy": "2021-09-23T10:11:34.018097Z",
     "iopub.status.idle": "2021-09-23T10:11:34.021690Z",
     "shell.execute_reply": "2021-09-23T10:11:34.020918Z"
    }
   },
   "outputs": [
    {
     "name": "stdout",
     "output_type": "stream",
     "text": [
      "x = \n",
      "[[ 1  2 33]\n",
      " [44  5  6]]\n",
      "Shape: (2, 3)\n",
      "Type: int64\n",
      "Dimension: 2\n"
     ]
    }
   ],
   "source": [
    "x = np.array([[1, 2, 33], [44, 5, 6]])\n",
    "print('x = ', x, sep='\\n')\n",
    "print('Shape:', x.shape)\n",
    "print('Type:', x.dtype)\n",
    "print('Dimension:', x.ndim)"
   ]
  },
  {
   "cell_type": "markdown",
   "metadata": {},
   "source": [
    "There are a couple of NumPy functions for creating arrays:"
   ]
  },
  {
   "cell_type": "code",
   "execution_count": 4,
   "metadata": {
    "execution": {
     "iopub.execute_input": "2021-09-23T10:11:34.032328Z",
     "iopub.status.busy": "2021-09-23T10:11:34.030376Z",
     "iopub.status.idle": "2021-09-23T10:11:34.035140Z",
     "shell.execute_reply": "2021-09-23T10:11:34.035874Z"
    }
   },
   "outputs": [
    {
     "name": "stdout",
     "output_type": "stream",
     "text": [
      "Array of given shape and type, filled with zeros:  [0. 0.]\n",
      "Array of given shape and type, filled with integer zeros:  [0 0]\n",
      "Array of given shape and type, filled with ones: \n",
      "[[1. 1. 1.]\n",
      " [1. 1. 1.]]\n",
      "Evenly spaced values within a given interval:  [2 4 6]\n",
      "Random values in a given shape: \n",
      "[[0.83438381 0.76954593 0.64923116]\n",
      " [0.67928396 0.89735793 0.66771412]]\n",
      "Identity matrix: \n",
      "[[1. 0. 0.]\n",
      " [0. 1. 0.]\n",
      " [0. 0. 1.]]\n"
     ]
    }
   ],
   "source": [
    "print('Array of given shape and type, filled with zeros: ', np.zeros(2))\n",
    "print('Array of given shape and type, filled with integer zeros: ', np.zeros(2, dtype='int'))\n",
    "print('Array of given shape and type, filled with ones: ', np.ones((2, 3)), sep='\\n')\n",
    "print('Evenly spaced values within a given interval: ', np.arange(2, 8, 2))\n",
    "print('Random values in a given shape: ', np.random.rand(2, 3),  sep='\\n')\n",
    "print('Identity matrix: ', np.eye(3),  sep='\\n')"
   ]
  },
  {
   "cell_type": "markdown",
   "metadata": {},
   "source": [
    "<a id='reshape'></a>\n",
    "## Array Reshaping \n",
    "\n",
    "Keeping the total number of entries, there are various ways for reshaping an array. Here are some examples:"
   ]
  },
  {
   "cell_type": "code",
   "execution_count": 5,
   "metadata": {
    "execution": {
     "iopub.execute_input": "2021-09-23T10:11:34.045560Z",
     "iopub.status.busy": "2021-09-23T10:11:34.044159Z",
     "iopub.status.idle": "2021-09-23T10:11:34.048131Z",
     "shell.execute_reply": "2021-09-23T10:11:34.048861Z"
    }
   },
   "outputs": [
    {
     "name": "stdout",
     "output_type": "stream",
     "text": [
      "x = [ 0  1  2  3  4  5  6  7  8  9 10 11 12 13 14 15 16 17 18 19 20 21 22 23]\n",
      "Shape: (24,)\n",
      "y = \n",
      "[[ 0  1  2  3  4  5  6  7]\n",
      " [ 8  9 10 11 12 13 14 15]\n",
      " [16 17 18 19 20 21 22 23]]\n",
      "Shape: (3, 8)\n",
      "z = \n",
      "[[[ 0  1  2  3]\n",
      "  [ 4  5  6  7]]\n",
      "\n",
      " [[ 8  9 10 11]\n",
      "  [12 13 14 15]]\n",
      "\n",
      " [[16 17 18 19]\n",
      "  [20 21 22 23]]]\n",
      "Shape: (3, 2, 4)\n",
      "Element z[0, 1, 2] =  6\n"
     ]
    }
   ],
   "source": [
    "x = np.arange(2 * 3 * 4)\n",
    "print('x =', x)\n",
    "print('Shape:', x.shape)\n",
    "\n",
    "y = x.reshape((3, 8))\n",
    "print('y = ', y, sep='\\n')\n",
    "print('Shape:', y.shape)\n",
    "\n",
    "z = np.reshape(x, (3, 2, 4))\n",
    "print('z = ', z, sep='\\n')\n",
    "print('Shape:', z.shape)\n",
    "\n",
    "print('Element z[0, 1, 2] = ', z[0, 1, 2])"
   ]
  },
  {
   "cell_type": "markdown",
   "metadata": {},
   "source": [
    "NumPy allows for giving one of the new shape parameters as `-1`. In this case, NumPy automatically figures out the unknown dimension. Note the difference between the shape `(6,)` and the shape `(6,1)` in the following example."
   ]
  },
  {
   "cell_type": "code",
   "execution_count": 6,
   "metadata": {
    "execution": {
     "iopub.execute_input": "2021-09-23T10:11:34.055965Z",
     "iopub.status.busy": "2021-09-23T10:11:34.055036Z",
     "iopub.status.idle": "2021-09-23T10:11:34.057928Z",
     "shell.execute_reply": "2021-09-23T10:11:34.058654Z"
    }
   },
   "outputs": [
    {
     "name": "stdout",
     "output_type": "stream",
     "text": [
      "Shape: (6,); dim: 1\n",
      "Shape: (3, 2); dim: 2\n",
      "Shape: (6, 1); dim: 2\n"
     ]
    }
   ],
   "source": [
    "x = np.arange(6)\n",
    "print(f'Shape: {x.shape}; dim: {x.ndim}')\n",
    "x = x.reshape(-1, 2)\n",
    "print(f'Shape: {x.shape}; dim: {x.ndim}')\n",
    "x = x.reshape(-1, 1)\n",
    "print(f'Shape: {x.shape}; dim: {x.ndim}')"
   ]
  },
  {
   "cell_type": "markdown",
   "metadata": {},
   "source": [
    "<a id='operation'></a>\n",
    "## Array Operations \n",
    "\n",
    "There are many ways to compute with NumPy arrays. Many operations look similar to the ones when computing with numbers. Applied to arrays, these operations are conducted in an element-wise fashion:"
   ]
  },
  {
   "cell_type": "code",
   "execution_count": 7,
   "metadata": {
    "execution": {
     "iopub.execute_input": "2021-09-23T10:11:34.068064Z",
     "iopub.status.busy": "2021-09-23T10:11:34.067247Z",
     "iopub.status.idle": "2021-09-23T10:11:34.069803Z",
     "shell.execute_reply": "2021-09-23T10:11:34.070810Z"
    }
   },
   "outputs": [
    {
     "name": "stdout",
     "output_type": "stream",
     "text": [
      "x =  [0 1 2 3 4]\n",
      "x + 1 = [1 2 3 4 5]\n",
      "x * 2 = [0 2 4 6 8]\n",
      "x * x = [ 0  1  4  9 16]\n",
      "x ** 3 = [ 0  1  8 27 64]\n",
      "x / 4 = [0.   0.25 0.5  0.75 1.  ]\n",
      "x // 4 = [0 0 0 0 1]\n",
      "x > 2 = [False False False  True  True]\n"
     ]
    }
   ],
   "source": [
    "x = np.arange(5)\n",
    "print('x = ', x)\n",
    "print('x + 1 =', x + 1)\n",
    "print('x * 2 =', x * 2)\n",
    "print('x * x =', x * x)\n",
    "print('x ** 3 =', x ** 3)\n",
    "print('x / 4 =', x / 4)\n",
    "print('x // 4 =', x // 4)\n",
    "print('x > 2 =', x > 2)"
   ]
  },
  {
   "cell_type": "markdown",
   "metadata": {},
   "source": [
    "Here are some examples for computing with matrices of the same shape. It is important to understand the difference between element-wise multiplication (using the operator `*`) and usual matrix multiplication (using the function `np.dot`):"
   ]
  },
  {
   "cell_type": "code",
   "execution_count": 8,
   "metadata": {
    "execution": {
     "iopub.execute_input": "2021-09-23T10:11:34.079381Z",
     "iopub.status.busy": "2021-09-23T10:11:34.078612Z",
     "iopub.status.idle": "2021-09-23T10:11:34.088354Z",
     "shell.execute_reply": "2021-09-23T10:11:34.089077Z"
    }
   },
   "outputs": [
    {
     "name": "stdout",
     "output_type": "stream",
     "text": [
      "a = \n",
      "[[0 1]\n",
      " [2 3]]\n",
      "b = \n",
      "[[2. 2.]\n",
      " [2. 2.]]\n",
      "a + b = \n",
      "[[2. 3.]\n",
      " [4. 5.]]\n",
      "a * b (element-wise multiplication) = \n",
      "[[0. 2.]\n",
      " [4. 6.]]\n",
      "np.dot(a, b) (matrix multiplication) = \n",
      "[[ 2.  2.]\n",
      " [10. 10.]]\n"
     ]
    }
   ],
   "source": [
    "a = np.arange(0, 4).reshape((2, 2))\n",
    "b = 2 * np.ones((2, 2))\n",
    "print('a = ', a, sep='\\n')\n",
    "print('b = ', b, sep='\\n')\n",
    "print('a + b = ', a + b, sep='\\n')\n",
    "print('a * b (element-wise multiplication) = ', a * b, sep='\\n')\n",
    "print('np.dot(a, b) (matrix multiplication) = ', np.dot(a, b), sep='\\n')"
   ]
  },
  {
   "cell_type": "markdown",
   "metadata": {},
   "source": [
    "Note that arrays and lists may behave in a completely different way. For example, using the operator `+` leads to the following results:"
   ]
  },
  {
   "cell_type": "code",
   "execution_count": 9,
   "metadata": {
    "execution": {
     "iopub.execute_input": "2021-09-23T10:11:34.095037Z",
     "iopub.status.busy": "2021-09-23T10:11:34.094360Z",
     "iopub.status.idle": "2021-09-23T10:11:34.097920Z",
     "shell.execute_reply": "2021-09-23T10:11:34.097164Z"
    }
   },
   "outputs": [
    {
     "name": "stdout",
     "output_type": "stream",
     "text": [
      "[0 2 4 6] <class 'numpy.ndarray'>\n",
      "[0, 1, 2, 3, 0, 1, 2, 3] <class 'list'>\n"
     ]
    }
   ],
   "source": [
    "a = np.arange(4)\n",
    "b = np.arange(4)\n",
    "print(a + b, type(a + b))\n",
    "\n",
    "a = list(a)\n",
    "b = list(b)\n",
    "print(a + b, type(a + b))"
   ]
  },
  {
   "cell_type": "markdown",
   "metadata": {},
   "source": [
    "The sum of an array's elements can be computed along the different dimensions specified by the parameter `axis`. This is illustrated by the following example:"
   ]
  },
  {
   "cell_type": "code",
   "execution_count": 10,
   "metadata": {
    "execution": {
     "iopub.execute_input": "2021-09-23T10:11:34.105578Z",
     "iopub.status.busy": "2021-09-23T10:11:34.104827Z",
     "iopub.status.idle": "2021-09-23T10:11:34.107443Z",
     "shell.execute_reply": "2021-09-23T10:11:34.108246Z"
    }
   },
   "outputs": [
    {
     "name": "stdout",
     "output_type": "stream",
     "text": [
      "x = \n",
      "[[0 1 2]\n",
      " [3 4 5]]\n",
      "Total sum: 15\n",
      "Column sum:  [3 5 7]\n",
      "Row sum: [ 3 12]\n"
     ]
    }
   ],
   "source": [
    "x = np.arange(6).reshape((2, 3))\n",
    "print('x = ', x, sep='\\n')\n",
    "print('Total sum:', x.sum())\n",
    "print('Column sum: ', x.sum(axis=0))\n",
    "print('Row sum:', x.sum(axis=1))"
   ]
  },
  {
   "cell_type": "markdown",
   "metadata": {},
   "source": [
    "There are many ways for accessing and manipulating arrays. Here are some examples:"
   ]
  },
  {
   "cell_type": "code",
   "execution_count": 11,
   "metadata": {
    "execution": {
     "iopub.execute_input": "2021-09-23T10:11:34.115406Z",
     "iopub.status.busy": "2021-09-23T10:11:34.114640Z",
     "iopub.status.idle": "2021-09-23T10:11:34.117290Z",
     "shell.execute_reply": "2021-09-23T10:11:34.117950Z"
    }
   },
   "outputs": [
    {
     "name": "stdout",
     "output_type": "stream",
     "text": [
      "x = \n",
      "[[0 1 2]\n",
      " [3 4 5]]\n",
      "Element in second column of second row: 4\n",
      "Boolean encoding of element positions with values larger than 1: \n",
      "[[False False  True]\n",
      " [ True  True  True]]\n",
      "All elements larger than 1: [2 3 4 5]\n",
      "Second row: [3 4 5]\n",
      "Second column: [1 4]\n"
     ]
    }
   ],
   "source": [
    "x = np.arange(6).reshape((2, 3))\n",
    "print('x = ', x, sep='\\n')\n",
    "print('Element in second column of second row:', x[1, 1])\n",
    "print('Boolean encoding of element positions with values larger than 1: ', x > 1, sep='\\n')\n",
    "print('All elements larger than 1:', x[x > 1])\n",
    "print('Second row:', x[1, :])\n",
    "print('Second column:', x[:, 1])"
   ]
  },
  {
   "cell_type": "markdown",
   "metadata": {},
   "source": [
    "<a id='type'></a>\n",
    "## NumPy Type Conversion\n",
    "\n",
    "In the [PCP Notebook on Python Basics](PCP_02_python.html), we have already discussed the standard numeric types `int`, `float`, and `complex` offered by Python (and the function `type()` to identify the type of a variable). The NumPy package offers many more numerical [types and methods for type conversion](https://numpy.org/doc/stable/user/basics.types.html). We have already seen how to obtain the type of a numpy array using `dtype`. One can create or convert a variable to a specific type using `astype`. Some examples can be found in the next code cell."
   ]
  },
  {
   "cell_type": "code",
   "execution_count": 12,
   "metadata": {
    "execution": {
     "iopub.execute_input": "2021-09-23T10:11:34.128458Z",
     "iopub.status.busy": "2021-09-23T10:11:34.127606Z",
     "iopub.status.idle": "2021-09-23T10:11:34.131044Z",
     "shell.execute_reply": "2021-09-23T10:11:34.131739Z"
    }
   },
   "outputs": [
    {
     "name": "stdout",
     "output_type": "stream",
     "text": [
      "a = [-1  2  3]; dtype: int64\n",
      "b = [-1.  2.  3.]; dtype: float64\n",
      "c = [-1  2  3]; dtype: int64\n",
      "d = [255   2   3]; dtype: uint8\n",
      "e = [1.+0.j 2.+0.j 3.+0.j]; dtype: complex64\n"
     ]
    }
   ],
   "source": [
    "a = np.array([-1,2,3])\n",
    "print(f'a = {a}; dtype: {a.dtype}')\n",
    "b = a.astype(np.float64)\n",
    "print(f'b = {b}; dtype: {b.dtype}')\n",
    "c = a.astype(np.int64)\n",
    "print(f'c = {c}; dtype: {c.dtype}')\n",
    "d = a.astype(np.uint8)\n",
    "print(f'd = {d}; dtype: {d.dtype}')\n",
    "e = np.array([1,2,3]).astype(np.complex64)\n",
    "print(f'e = {e}; dtype: {e.dtype}')"
   ]
  },
  {
   "cell_type": "markdown",
   "metadata": {},
   "source": [
    "Specifying the exact type is often important when using packages such as [`numba` for optimizing machine code at runtime](http://numba.pydata.org/). In the following example, we give an example where a wrong initialization leads to an error (or warning with some `nan` results) when computing the square root of a negative number."
   ]
  },
  {
   "cell_type": "code",
   "execution_count": 13,
   "metadata": {
    "execution": {
     "iopub.execute_input": "2021-09-23T10:11:34.138409Z",
     "iopub.status.busy": "2021-09-23T10:11:34.137199Z",
     "iopub.status.idle": "2021-09-23T10:11:34.147516Z",
     "shell.execute_reply": "2021-09-23T10:11:34.148346Z"
    }
   },
   "outputs": [
    {
     "name": "stdout",
     "output_type": "stream",
     "text": [
      "=== Initialization with 'int32' leading to an error ===\n",
      "[-2 -1  0  1] int64\n",
      "[nan nan  0.  1.]\n",
      "=== Initialization with 'complex' ===\n",
      "[-3.+0.j -2.+0.j -1.+0.j  0.+0.j  1.+0.j  2.+0.j] complex128\n",
      "[0.        +1.73205081j 0.        +1.41421356j 0.        +1.j\n",
      " 0.        +0.j         1.        +0.j         1.41421356+0.j        ]\n"
     ]
    },
    {
     "name": "stderr",
     "output_type": "stream",
     "text": [
      "/Users/rosenzweig/miniconda3/envs/PCP/lib/python3.7/site-packages/ipykernel_launcher.py:4: RuntimeWarning: invalid value encountered in sqrt\n",
      "  after removing the cwd from sys.path.\n"
     ]
    }
   ],
   "source": [
    "print('=== Initialization with \\'int32\\' leading to an error ===', flush=True)\n",
    "x = np.arange(-2, 2)\n",
    "print(x, x.dtype)\n",
    "x = np.sqrt(x)\n",
    "print(x)     \n",
    "\n",
    "print('=== Initialization with \\'complex\\' ===', flush=True)\n",
    "x = np.arange(-3, 3, dtype='complex')\n",
    "print(x, x.dtype)\n",
    "x = np.sqrt(x)\n",
    "print(x)"
   ]
  },
  {
   "cell_type": "markdown",
   "metadata": {},
   "source": [
    "<a id='constants'></a>\n",
    "## NumPy Constants\n",
    "\n",
    "NumPy offers several constants that are convenient to compute with. In the following, we give some examples:"
   ]
  },
  {
   "cell_type": "code",
   "execution_count": 14,
   "metadata": {
    "execution": {
     "iopub.execute_input": "2021-09-23T10:11:34.155497Z",
     "iopub.status.busy": "2021-09-23T10:11:34.154475Z",
     "iopub.status.idle": "2021-09-23T10:11:34.157624Z",
     "shell.execute_reply": "2021-09-23T10:11:34.158437Z"
    }
   },
   "outputs": [
    {
     "name": "stdout",
     "output_type": "stream",
     "text": [
      "Archimedes constant Pi: 3.141592653589793; type: <class 'float'>\n",
      "Euler’s constant, base of natural logarithms: 2.718281828459045; type: <class 'float'>\n",
      "Floating point representation of (positive) infinity: inf; type: <class 'float'>\n",
      "Floating point representation of (negative) infinity: -inf; type: <class 'float'>\n",
      "floating point representation of Not a Number (NaN): nan; type: <class 'float'>\n"
     ]
    }
   ],
   "source": [
    "print(f'Archimedes constant Pi: {np.pi}; type: {type(np.pi)}')\n",
    "print(f'Euler’s constant, base of natural logarithms: {np.e}; type: {type(np.e)}')\n",
    "print(f'Floating point representation of (positive) infinity: {np.inf}; type: {type(np.inf)}')\n",
    "print(f'Floating point representation of (negative) infinity: {np.NINF}; type: {type(np.NINF)}')\n",
    "print(f'floating point representation of Not a Number (NaN): {np.nan}; type: {type(np.nan)}')"
   ]
  },
  {
   "cell_type": "markdown",
   "metadata": {},
   "source": [
    "In particular, the constants `nan` and `inf` can be convenient to avoid case distinctions. However, computing with such constants can also be a bit tricky as the following examples show."
   ]
  },
  {
   "cell_type": "code",
   "execution_count": 15,
   "metadata": {
    "execution": {
     "iopub.execute_input": "2021-09-23T10:11:34.168793Z",
     "iopub.status.busy": "2021-09-23T10:11:34.167814Z",
     "iopub.status.idle": "2021-09-23T10:11:34.171905Z",
     "shell.execute_reply": "2021-09-23T10:11:34.172969Z"
    }
   },
   "outputs": [
    {
     "name": "stdout",
     "output_type": "stream",
     "text": [
      "a = 10, b = inf, c = -inf, d = nan\n",
      "a + b = inf\n",
      "a * b = inf\n",
      "a + c = -inf\n",
      "a - c = inf\n",
      "a + d = nan\n",
      "b + c = nan\n",
      "b * c = -inf\n",
      "b / c = nan\n",
      "b + d = nan\n"
     ]
    }
   ],
   "source": [
    "a = 10\n",
    "b = np.inf\n",
    "c = -np.inf\n",
    "d = np.nan\n",
    "\n",
    "print(f'a = {a}, b = {b}, c = {c}, d = {d}')\n",
    "print('a + b =', a + b)\n",
    "print('a * b =', a * b)\n",
    "print('a + c =', a + c)\n",
    "print('a - c =', a - c)\n",
    "print('a + d =', a + d)\n",
    "print('b + c =', b + c)\n",
    "print('b * c =', b * c)\n",
    "print('b / c =', b / c)\n",
    "print('b + d =', b + d)"
   ]
  },
  {
   "cell_type": "markdown",
   "metadata": {},
   "source": [
    " NumPy offers functions such as <code>np.where</code> and <code>np.isinf</code> to check for special constants. In the following, the class [`np.errstate`](https://numpy.org/doc/stable/reference/generated/numpy.errstate.html) is used to suppress warning that are usually output when dividing by zero.  "
   ]
  },
  {
   "cell_type": "code",
   "execution_count": 16,
   "metadata": {
    "execution": {
     "iopub.execute_input": "2021-09-23T10:11:34.187221Z",
     "iopub.status.busy": "2021-09-23T10:11:34.185927Z",
     "iopub.status.idle": "2021-09-23T10:11:34.190120Z",
     "shell.execute_reply": "2021-09-23T10:11:34.191036Z"
    }
   },
   "outputs": [
    {
     "name": "stdout",
     "output_type": "stream",
     "text": [
      "Test element-wise for positive or negative infinity: [ True  True False]\n",
      "a =  [-2 -1  0  1  2]\n",
      "b = a / 0 = [-inf -inf  nan  inf  inf]\n",
      "Indices with inf values: [ True  True False  True  True] (array([0, 1, 3, 4]),)\n",
      "Indices with nan values: [False False  True False False] (array([2]),)\n"
     ]
    }
   ],
   "source": [
    "print('Test element-wise for positive or negative infinity:', np.isinf([np.inf, np.NINF, np.nan]))\n",
    "\n",
    "a = np.arange(-2, 3) \n",
    "print('a = ', a)\n",
    "with np.errstate(divide='ignore', invalid='ignore'):\n",
    "    b = a / 0\n",
    "print('b = a / 0 =', b)\n",
    "\n",
    "ind_inf = np.isinf(b)\n",
    "ind_inf_pos = np.where(ind_inf)\n",
    "print('Indices with inf values:', ind_inf, ind_inf_pos)\n",
    "\n",
    "ind_nan = np.isnan(b)\n",
    "ind_nan_pos = np.where(ind_nan)\n",
    "print('Indices with nan values:', ind_nan, ind_nan_pos)"
   ]
  },
  {
   "cell_type": "markdown",
   "metadata": {},
   "source": [
    "## Exercises and Results"
   ]
  },
  {
   "cell_type": "code",
   "execution_count": 17,
   "metadata": {
    "execution": {
     "iopub.execute_input": "2021-09-23T10:11:34.197708Z",
     "iopub.status.busy": "2021-09-23T10:11:34.196367Z",
     "iopub.status.idle": "2021-09-23T10:11:34.206379Z",
     "shell.execute_reply": "2021-09-23T10:11:34.207281Z"
    }
   },
   "outputs": [],
   "source": [
    "import libpcp.numpy\n",
    "show_result = True"
   ]
  },
  {
   "cell_type": "markdown",
   "metadata": {},
   "source": [
    "<a id='exercise_numpy_array'></a>\n",
    "<div class=\"alert alert-block alert-info\">\n",
    "<strong>Exercise 1: NumPy Array Manipulations</strong><br>\n",
    "<ul>\n",
    "<li> Create a NumPy array <code>a</code> with ascending natural numbers in the interval $[10, 20]=\\{10,11,\\ldots,20\\}$ (using <code>np.arange</code>).</li>\n",
    "<li> Set all entries of <code>a</code> to zero where <code>a</code>$\\leq13$ and <code>a</code>$>16$.</li>\n",
    "<li> Extend the resulting array <code>a</code> with a NumPy array containing the numbers of the interval $[4,6]$ and store the result in a variable <code>b</code> (using <code>np.append</code>).</li>    \n",
    "<li> Remove duplicate values of <code>b</code> (using <code>np.unique</code>) and store the result in a variable <code>c</code>. Note that the result is automatically sorted in ascending order.</li>\n",
    "<li> Sort <code>c</code> in descending order and store the result in a variable <code>d</code>. Explore and discuss various options to do this including the slicing method <code>c[::-1]</code>, the function <code>reversed()</code>, as well as the NumPy functions <code>np.sort</code> and <code>np.flip</code>.</li>\n",
    "</ul>    \n",
    "</div>"
   ]
  },
  {
   "cell_type": "code",
   "execution_count": 18,
   "metadata": {
    "execution": {
     "iopub.execute_input": "2021-09-23T10:11:34.213177Z",
     "iopub.status.busy": "2021-09-23T10:11:34.211934Z",
     "iopub.status.idle": "2021-09-23T10:11:34.215362Z",
     "shell.execute_reply": "2021-09-23T10:11:34.216220Z"
    }
   },
   "outputs": [],
   "source": [
    "#<solution>\n",
    "# Your Solution\n",
    "#</solution>"
   ]
  },
  {
   "cell_type": "code",
   "execution_count": 19,
   "metadata": {
    "execution": {
     "iopub.execute_input": "2021-09-23T10:11:34.227004Z",
     "iopub.status.busy": "2021-09-23T10:11:34.222009Z",
     "iopub.status.idle": "2021-09-23T10:11:34.231398Z",
     "shell.execute_reply": "2021-09-23T10:11:34.231956Z"
    }
   },
   "outputs": [
    {
     "name": "stdout",
     "output_type": "stream",
     "text": [
      "[10 11 12 13 14 15 16 17 18 19 20]\n",
      "[ 0  0  0  0 14 15 16  0  0  0  0]\n",
      "[ 0  0  0  0 14 15 16  0  0  0  0  4  5  6]\n",
      "[ 0  4  5  6 14 15 16]\n",
      "[16 15 14  6  5  4  0] Type: <class 'numpy.ndarray'>\n",
      "[16 15 14  6  5  4  0] Type: <class 'numpy.ndarray'>\n",
      "[16 15 14  6  5  4  0] Type: <class 'numpy.ndarray'>\n",
      "<reversed object at 0x7fb599a66a90> Type: <class 'reversed'>\n",
      "<reversed object at 0x7fb599a66e10> Type: <class 'reversed'>\n"
     ]
    }
   ],
   "source": [
    "libpcp.numpy.exercise_numpy_array(show_result=show_result)"
   ]
  },
  {
   "cell_type": "markdown",
   "metadata": {},
   "source": [
    "<a id='recap_matrix'></a>\n",
    "<div class=\"alert alert-block alert-success\">\n",
    "<strong>Recap: Matrices and Basic Operations</strong><br>\n",
    "Let $N,M\\in\\mathbb{N}$ be two positive integers. An $(N\\times M)$-matrix $\\mathbf{A}$ is a rectangular array of entries arranged in <strong>rows</strong> and <strong>columns</strong>. For example, if entries are real numbers, one also writes $\\mathbf{A}\\in\\mathbb{R}^{N\\times M}$. Let $a_{nm}\\in\\mathbb{R}$ denote the entry of $\\mathbf{A}$ being in the $n^{\\mathrm{th}}$ row and $m^{\\mathrm{th}}$ column for $n\\in[1:N]=\\{1,2,...,N\\}$ and $m\\in[1:M]$. Then, one also often writes $\\mathbf{A}=[a_{nm}]$. A <strong>vector</strong> is a matrix where either $N=1$ (then called <strong>row vector</strong>) or $M=1$ (then called <strong>column vector</strong>).\n",
    "      \n",
    "When computing with vectors and matrices, one has to pay attention that the dimensions $N$ and $M$ of the operands match properly. For example, for a <strong>matrix summation</strong> or <strong>matrix subtraction</strong>, the operands must be of same dimensions or one of them needs to be a scalar (in this case the operations are applied per entry). The multiplication of matrices refers to a <strong>matrix multiplication</strong>. For an $(N\\times M)$-matrix $\\mathbf{A} = [a_{nm}]$ and a $(M\\times P)$-matrix $\\mathbf{B} = [b_{mp}]$, the product matrix $\\mathbf{C} = \\mathbf{A}\\mathbf{B}$ with entries $\\mathbf{C}=[c_{np}]$ is defined by $c_{np} = \\sum_{m=1}^M a_{nm}b_{mp}$ for $n\\in[1:N]$ and $p\\in[1:P]$. In other words, the entry $c_{np}$ is the <strong>inner product</strong> (sometimes also called <strong>scalar product</strong>) of $n^{\\mathrm{th}}$ row of $\\mathbf{A}$ and $p^{\\mathrm{th}}$ column of $\\mathbf{B}$. This calculation rule is illustrated by the following figure:\n",
    "\n",
    "<img src=\"data/PCP_fig_matmult.png\" width=65% style=\"float: center;\" alt=\"PCP_fig_matmult\"></a>\n",
    "<br>\n",
    "</div>"
   ]
  },
  {
   "cell_type": "markdown",
   "metadata": {},
   "source": [
    "<a id='exercise_matrix_operation'></a>\n",
    "<div class=\"alert alert-block alert-info\">\n",
    "<strong>Exercise 2: Matrix Operations</strong><br>\n",
    "<ul>\n",
    "    <li> Construct a matrix $\\mathbf{B} = \\begin{bmatrix}2 & 2 & 2 & 2\\\\2 & 2 & 2 & 2\\\\0 & 0 & 0 & 0\\\\\\end{bmatrix}$ just using the NumPy functions <code>np.zeros</code>, <code>np.ones</code>, and <code>np.vstack</code>. Check the matrix dimensions using <code>np.shape</code>.</li>\n",
    "    <li> Find the row and column index of the maximum entry of the matrix $\\mathbf{D} = \\begin{bmatrix}2 & 0 & 2\\\\-1 & 5 & 10\\\\-3 & 0 & 9\\\\\\end{bmatrix}$ using the functions <code>np.max</code>, <code>np.argmax</code> and <code>np.unravel_index</code>. Why is it not sufficient to use <code>np.argmax</code>?</li>\n",
    "    <li> Given a row vector $\\mathbf{v} = [3\\;2\\;1]$ and a column vector $\\mathbf{w} = [6\\;5\\;4]^T$, compute $\\mathbf{v}\\mathbf{w}$ and $\\mathbf{w}\\mathbf{v}$ using <code>np.dot</code> and <code>np.outer</code>. What is the difference between <code>np.multiply</code>, <code>np.dot</code>, and <code>np.outer</code>?</li>\n",
    "    <li> Given $\\mathbf{A} = \\begin{bmatrix}1 & 2\\\\3 & 5\\end{bmatrix}$, $\\mathbf{v} = \\begin{bmatrix}1\\\\4\\end{bmatrix}$, compute  $\\mathbf{A}^{-1}$ and $\\mathbf{A}^{-1}\\mathbf{v}$ (using <code>np.linalg.inv</code>).</li>\n",
    "    </ul>\n",
    "</div>"
   ]
  },
  {
   "cell_type": "code",
   "execution_count": 20,
   "metadata": {
    "execution": {
     "iopub.execute_input": "2021-09-23T10:11:34.236439Z",
     "iopub.status.busy": "2021-09-23T10:11:34.235616Z",
     "iopub.status.idle": "2021-09-23T10:11:34.238479Z",
     "shell.execute_reply": "2021-09-23T10:11:34.239261Z"
    }
   },
   "outputs": [],
   "source": [
    "#<solution>\n",
    "# Your Solution\n",
    "#</solution>"
   ]
  },
  {
   "cell_type": "code",
   "execution_count": 21,
   "metadata": {
    "execution": {
     "iopub.execute_input": "2021-09-23T10:11:34.250406Z",
     "iopub.status.busy": "2021-09-23T10:11:34.249086Z",
     "iopub.status.idle": "2021-09-23T10:11:34.256133Z",
     "shell.execute_reply": "2021-09-23T10:11:34.257218Z"
    }
   },
   "outputs": [
    {
     "name": "stdout",
     "output_type": "stream",
     "text": [
      "Matrix B: \n",
      "[[2. 2. 2. 2.]\n",
      " [2. 2. 2. 2.]\n",
      " [0. 0. 0. 0.]]\n",
      "Shape of matrix B: (3, 4)\n",
      "Maximum of matrix D: 10\n",
      "Row and column index of maximum entry: (1, 2)\n",
      "vw =  32\n",
      "wv = \n",
      "[[18 12  6]\n",
      " [15 10  5]\n",
      " [12  8  4]]\n",
      "Inverse(A) = \n",
      "[[-5.  2.]\n",
      " [ 3. -1.]]\n",
      "Inverse(A)v = \n",
      "[ 3. -1.]\n"
     ]
    }
   ],
   "source": [
    "libpcp.numpy.exercise_matrix_operation(show_result=show_result)"
   ]
  },
  {
   "cell_type": "markdown",
   "metadata": {},
   "source": [
    "<a id='exercise_numpy_math_function'></a>\n",
    "<div class=\"alert alert-block alert-info\">\n",
    "<strong>Exercise 3: Mathematical NumPy Functions</strong><br>\n",
    "The NumPy package offers many different <a href='https://numpy.org/doc/stable/reference/routines.math.html'>mathematical functions</a>. Explore these functions by trying them out on small examples. In particular, you should gain a good understanding of the following concepts.\n",
    "       \n",
    "<ul>\n",
    "    <li>Generate a NumPy array <code>v_deg</code> containing the numbers $[0, 30, 45, 60, 90, 180]$. Apply the function <code>np.deg2rad</code> to convert this array (given in degree) to an array <code>v_rad</code> (given in radiants). Then apply the functions <code>np.cos</code> and <code>np.sin</code> and discuss the results.</li>\n",
    "    <li>Using the the same array as before, apply the exponential function  <code>np.exp(1j * v_rad)</code>. What is meant by <code>1j</code>? What is the relation to <code>np.cos</code> and <code>np.sin</code>? Use the functions <code>np.real</code>, <code>np.imag</code>, and <code>np.isclose</code> to make this relation explicit.\n",
    "    <li>Try out different functions for rounding using the numbers $[-3.1416, -1.5708, 0, 1.5708, 3.1416]$. What is the difference between the functions <code>np.round</code>, <code>np.floor</code>, <code>np.ceil</code>, and <code>np.trunc</code>? </li>  \n",
    "</ul>    \n",
    "</div>"
   ]
  },
  {
   "cell_type": "code",
   "execution_count": 22,
   "metadata": {
    "execution": {
     "iopub.execute_input": "2021-09-23T10:11:34.261880Z",
     "iopub.status.busy": "2021-09-23T10:11:34.261148Z",
     "iopub.status.idle": "2021-09-23T10:11:34.264942Z",
     "shell.execute_reply": "2021-09-23T10:11:34.265713Z"
    }
   },
   "outputs": [],
   "source": [
    "#<solution>\n",
    "# Your Solution\n",
    "#</solution>"
   ]
  },
  {
   "cell_type": "code",
   "execution_count": 23,
   "metadata": {
    "execution": {
     "iopub.execute_input": "2021-09-23T10:11:34.271856Z",
     "iopub.status.busy": "2021-09-23T10:11:34.270768Z",
     "iopub.status.idle": "2021-09-23T10:11:34.275627Z",
     "shell.execute_reply": "2021-09-23T10:11:34.276740Z"
    }
   },
   "outputs": [
    {
     "name": "stdout",
     "output_type": "stream",
     "text": [
      "\n",
      " ==== Cos and sin function ====\n",
      "deg:  [  0  30  45  60  90 180]\n",
      "rad:  [ 0.0000  0.5236  0.7854  1.0472  1.5708  3.1416]\n",
      "cos:  [ 1.0000  0.8660  0.7071  0.5000  0.0000 -1.0000]\n",
      "sin:  [ 0.0000  0.5000  0.7071  0.8660  1.0000  0.0000]\n",
      "\n",
      " ==== Exponential function ====\n",
      "exp:  [ 1.00000000e+00+0.00000000e+00j  8.66025404e-01+5.00000000e-01j\n",
      "  7.07106781e-01+7.07106781e-01j  5.00000000e-01+8.66025404e-01j\n",
      "  6.12323400e-17+1.00000000e+00j -1.00000000e+00+1.22464680e-16j]\n",
      "exp_real:  [ 1.0000  0.8660  0.7071  0.5000  0.0000 -1.0000]\n",
      "exp_imag:  [ 0.0000  0.5000  0.7071  0.8660  1.0000  0.0000]\n",
      "cos == exp_real: [ True  True  True  True  True  True]\n",
      "sin == exp_imag: [ True  True  True  True  True  True]\n",
      "\n",
      " ==== Rounding options ====\n",
      "Original numbers:           [-3.1416 -1.5708  0.0000  1.5708  3.1416]\n",
      "Round to integer:           [-3.0000 -2.0000  0.0000  2.0000  3.0000]\n",
      "Round to three decimals:    [-3.1420 -1.5710  0.0000  1.5710  3.1420]\n",
      "Return floor of numbers:    [-4.0000 -2.0000  0.0000  1.0000  3.0000]\n",
      "Return ceil of numbers:     [-3.0000 -1.0000  0.0000  2.0000  4.0000]\n",
      "Return truncated numbers:   [-3.0000 -1.0000  0.0000  1.0000  3.0000]\n"
     ]
    }
   ],
   "source": [
    "libpcp.numpy.exercise_numpy_math_function(show_result=show_result)"
   ]
  },
  {
   "cell_type": "markdown",
   "metadata": {},
   "source": [
    "<div>\n",
    "<a href=\"https://opensource.org/licenses/MIT\"><img src=\"data_layout/PCP_License.png\" width=100% style=\"float: right;\" alt=\"PCP License\"></a>\n",
    "</div>"
   ]
  }
 ],
 "metadata": {
  "anaconda-cloud": {},
  "kernelspec": {
   "display_name": "Python 3",
   "language": "python",
   "name": "python3"
  },
  "language_info": {
   "codemirror_mode": {
    "name": "ipython",
    "version": 3
   },
   "file_extension": ".py",
   "mimetype": "text/x-python",
   "name": "python",
   "nbconvert_exporter": "python",
   "pygments_lexer": "ipython3",
   "version": "3.7.11"
  }
 },
 "nbformat": 4,
 "nbformat_minor": 1
}
