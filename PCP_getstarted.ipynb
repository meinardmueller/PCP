{
 "cells": [
  {
   "cell_type": "markdown",
   "metadata": {},
   "source": [
    "<div>\n",
    "<a href=\"https://www.audiolabs-erlangen.de/fau/professor/mueller\"><img src=\"data_layout/PCP_Teaser.png\" width=100% style=\"float: right;\" alt=\"PCP Teaser\"></a>\n",
    "</div>"
   ]
  },
  {
   "cell_type": "markdown",
   "metadata": {},
   "source": [
    "# Unit 1: Get Started\n",
    "\n",
    "<ul>\n",
    "    <li><a href='#learn'>Overview and Learning Objectives</a></li>    \n",
    "    <li><a href='#github'>Downloading PCP Notebooks (Option 1): GitHub</a></li>\n",
    "    <li><a href='#archive'>Downloading PCP Notebooks (Option 2): AudioLabs Website</a></li>\n",
    "    <li><a href='#package'>Package Management System</a></li>\n",
    "    <li><a href='#environment'>Python Environment Files</a></li>\n",
    "    <li><a href='#create'>Creating Conda Environment</a></li>\n",
    "    <li><a href='#jupyterstart'>Starting Jupyter Server</a></li>\n",
    "    <li><a href='#jupyter'>Jupyter Notebook</a></li>   \n",
    "    <li><a href='#keyboard'>Keyboard Shortcuts</a></li>\n",
    "    <li><a href='#export'>HTML Export</a></li>   \n",
    "    <li><a href='#further'>Further Notes</a></li>\n",
    "</ul>      "
   ]
  },
  {
   "cell_type": "markdown",
   "metadata": {},
   "source": [
    "<a id='learn'></a> \n",
    "<div class=\"alert alert-block alert-warning\">\n",
    "<h2>Overview and Learning Objectives</h2>\n",
    "    \n",
    "In this first unit, we briefly introduce how to use the PCP notebooks and start interacting with them using the Jupyter notebook framework. If a static view of the PCP notebooks is enough for you, the <a href=\"https://www.audiolabs-erlangen.de/PCP\">exported HTML versions</a> can be used right away without any installation. Suppose you want to execute, modify, and experiment with the Python code contained in the notebooks' code cells. In that case, you need to install Python, some additional Python packages, and the Jupyter software underlying the web-based interactive computational environment for creating notebook documents. In the following, we discuss the required software components and explain the steps necessary to install them. \n",
    "<!--In particular, you need to complete the following four steps:\n",
    "   \n",
    "<ol>    \n",
    "<li> Downloading the PCP notebooks either from GitHub or the AudioLabs website<br>\n",
    "</li>    \n",
    "<li> Installing Miniconda<br>\n",
    "   <a href=\"https://docs.conda.io/en/latest/miniconda.html\">https://docs.conda.io/en/latest/miniconda.html</a>\n",
    "</li>    \n",
    "<li> Creating a conda environment<br>\n",
    "  <code>conda env create -f environment.yml</code>\n",
    "</li>    \n",
    "<li> Starting the Jupyter server<br>\n",
    "  <code>conda activate PCP</code><br>\n",
    "  <code>jupyter notebook</code>\n",
    "</li>\n",
    "</ol>-->\n",
    "    \n",
    "At the end of this unit, you should be able to run the PCP notebooks locally on your computer. Since the steps for installing PCP notebooks are typical for many software projects, we strongly recommend that students carry out these steps themselves while getting familiar with the software concepts involved. As an alternative for locally executing the notebooks, you may also use web-based services such as Google colab or binder. We refer to the <a href=\"https://github.com/meinardmueller/PCP\">PCP notebooks' GitHub repository</a> for further details.    \n",
    "</div>  "
   ]
  },
  {
   "cell_type": "markdown",
   "metadata": {},
   "source": [
    "<a id='github'></a> \n",
    "## Downloading PCP Notebooks (Option 1): GitHub\n",
    "The latest version of the PCP notebooks is hosted on [GitHub](https://github.com/meinardmueller/PCP). GitHub is a  platform for software development and version control using [Git](https://git-scm.com). To use Git, please download and install the [latest version](https://git-scm.com/downloads) for your operating system. For more information on how to setup and use Git, we refer to sources such as the [GitHub Quickstart Guide](https://docs.github.com/en/get-started/quickstart) and the [Git Tutorial](https://git-scm.com/docs/gittutorial). You can download (\"clone\") the PCP GitHub repository by calling\n",
    "<div class=\"alert alert-block alert-warning\">\n",
    "<code>git clone https://github.com/meinardmueller/PCP.git</code>.<br>\n",
    "</div>\n",
    "Note that the repository can also be run in interactive online Jupyter environments such as <a href=\"https://mybinder.org/v2/gh/meinardmueller/PCP/master\">Binder</a> without further installation steps. See the <code>Readme.md</code> of the repository for further information."
   ]
  },
  {
   "cell_type": "markdown",
   "metadata": {},
   "source": [
    "<a id='archive'></a>\n",
    "## Downloading PCP Notebooks (Option 2): AudioLabs Website\n",
    "\n",
    "Alternatively, you can download a zip-compressed archive containing the PCP notebooks and all data. You can find this archive at \n",
    "\n",
    "<div class=\"alert alert-block alert-warning\">\n",
    "     <a href=\"https://www.audiolabs-erlangen.de/resources/MIR/PCP/PCP_1.0.2.zip\">https://www.audiolabs-erlangen.de/resources/MIR/PCP/PCP_1.0.2.zip</a>\n",
    "</div>   \n",
    "\n",
    "Decompress the archive and store it on your local computer."
   ]
  },
  {
   "cell_type": "markdown",
   "metadata": {},
   "source": [
    "<a id='package'></a>\n",
    "## Package Management System\n",
    "\n",
    "[Conda](https://conda.io/docs/) is an open source package manager that helps finding and installing packages. It runs on Windows, macOS, and Linux. The Conda package and environment manager is included in **Anaconda** and its slim version **Miniconda**, which are free and open-source distributions of Python. Miniconda can make installing Python quick and easy even for new users. Download and install Miniconda for your platform from the following website:\n",
    "\n",
    "<div class=\"alert alert-block alert-warning\">\n",
    "     <a href=\"https://docs.conda.io/en/latest/miniconda.html\">https://docs.conda.io/en/latest/miniconda.html</a>\n",
    "</div> \n",
    "\n",
    "The following steps and commands may be useful to get started:\n",
    "\n",
    "* Install Anaconda or [Miniconda](https://conda.io/miniconda.html) (slim version of Anaconda). \n",
    "* On Windows: Start with opening the terminal `Anaconda Prompt`. <br> \n",
    "  On Linux/MacOS: You can use a usual shell.\n",
    "* Verify that conda is installed: `conda --version`\n",
    "* Update conda (it is recommended to always keep conda updated to the latest version): `conda update conda` \n",
    "* Default environment is named `base`\n",
    "* Create a new environment and install a package in it. For example:    \n",
    "  `conda create --name PCP python=3 numpy scipy matplotlib jupyter`  \n",
    "  creates a Python environment including the packages `numpy`, `scipy`,  `matplotlib`,  and `jupyter`\n",
    "* List of all environments: `conda info --envs`\n",
    "* Activate environment: `conda activate PCP`\n",
    "* Python version in current environment: `python --version`\n",
    "* List packages contained in environment: `conda list`\n",
    "* Remove environment: `conda env remove --name PCP`"
   ]
  },
  {
   "cell_type": "markdown",
   "metadata": {},
   "source": [
    "<a id='environment'></a>\n",
    "## Python Environment Files\n",
    "\n",
    "To simplify the installation of Python and Jupyter, we recommend to create an environment from an `environment.yml` file, which exactly specifies the packages (along with specific versions). \n",
    "\n",
    "* We already provide such a file for the PCP notebooks. To create the environment named `PCP`, you need to call  \n",
    "  `conda env create -f environment.yml` \n",
    "\n",
    "* To update the environment, you can call  \n",
    "  `conda env update -f environment.yml`\n",
    "\n",
    "* Sometimes it may be easier to first remove the environment and than install it again:   \n",
    "  `conda env remove -n PCP`  \n",
    "  `conda env create -f environment.yml` \n",
    "\n",
    "\n",
    "* Once the environment has been installed, you need to activate it using:  \n",
    " `conda activate PCP` \n",
    "\n",
    "The current `PCP` environment can be listed as follows:"
   ]
  },
  {
   "cell_type": "code",
   "execution_count": 1,
   "metadata": {
    "execution": {
     "iopub.execute_input": "2021-09-23T10:11:46.317915Z",
     "iopub.status.busy": "2021-09-23T10:11:46.317002Z",
     "iopub.status.idle": "2021-09-23T10:11:46.322614Z",
     "shell.execute_reply": "2021-09-23T10:11:46.321906Z"
    }
   },
   "outputs": [
    {
     "name": "stdout",
     "output_type": "stream",
     "text": [
      "name: PCP  # the name of the environment\n",
      "\n",
      "channels:  # conda channels from which packages are downloaded\n",
      "  - defaults\n",
      "  - conda-forge\n",
      "\n",
      "dependencies:\n",
      "  - python=3.7.*  # Plain Python\n",
      "  - pip=19.2.*  # Package installer for Python\n",
      "  - numpy=1.17.*  # NumPy\n",
      "  - matplotlib=3.1.*  # Matplotlib\n",
      "# Jupyter Notebook dependencies:\n",
      "  - ipython=7.8.*\n",
      "  - jupyter=1.0.*\n",
      "  - jupyter_client=6.1.*  # prevents server error\n",
      "  - jupyter_contrib_nbextensions=0.5.*  # spell checker\n",
      "  - nbconvert=5.6.*  # HTML export\n",
      "  - pip:  # Packages that are installed via pip\n",
      "    - nbstripout==0.3.*  # strip notebook output\n",
      "    - notebook>=6.4.4  # fixes Markdown table rendering\n",
      "\n"
     ]
    }
   ],
   "source": [
    "import os\n",
    "\n",
    "fn = os.path.join('environment.yml')\n",
    "with open(fn, 'r', encoding='utf-8') as stream:\n",
    "    env = stream.read()\n",
    "\n",
    "print(env)"
   ]
  },
  {
   "cell_type": "markdown",
   "metadata": {},
   "source": [
    "<a id='create'></a>\n",
    "## Creating Conda Environment\n",
    "\n",
    "We provide an environment file with all packages needed for interacting with the PCP notebooks. Open the Anaconda Prompt on Windows or your default shell on Linux/macOS. Then change to the directory that contains the file `environment.yml`, e.g. by calling `cd ./PCP/`. Create the environment with the following command: \n",
    "\n",
    "<div class=\"alert alert-block alert-warning\">\n",
    "    <tt>conda env create -f environment.yml</tt>\n",
    "</div> "
   ]
  },
  {
   "cell_type": "markdown",
   "metadata": {},
   "source": [
    "<a id='jupyterstart'></a>\n",
    "## Starting Jupyter Server\n",
    "\n",
    "After creating the PCP environment, you need to activate the environment using the following command:\n",
    "\n",
    "<div class=\"alert alert-block alert-warning\">\n",
    "    <tt>conda activate PCP</tt>\n",
    "</div> \n",
    "\n",
    "Finally, one needs to change to the directory containing the PCP notebooks and to start the Jupyter server by using the following command:\n",
    "\n",
    "<div class=\"alert alert-block alert-warning\">\n",
    "    <tt>jupyter notebook</tt>\n",
    "</div> \n",
    "\n",
    "This should open a browser, displaying the folder structure of the PCP notebooks. You then can open the overview notebook by selecting the file `PCP.ipynb`. You can also directly open any PCP notebook by selecting a file in any subdirectory with the file extension `.ipynb`. Within the Jupyter session, you need to follow the **IPYNB links** to keep the code cells executable. Furthermore note that, within the Jupyter session, you can only access files that are contained in the directory you used for launching the Jupyter server or in any of its **subdirectories**."
   ]
  },
  {
   "cell_type": "markdown",
   "metadata": {},
   "source": [
    "<a id='jupyter'></a>\n",
    "## Jupyter Notebook\n",
    "\n",
    "[Jupyter](http://jupyter.org/) is a non-profit, open-source project, born out of the IPython project. It exists to develop open-source software, open-standards, and services for interactive computing across dozens of programming languages. The Jupyter notebook framework allows for keeping code, images, comments, formulas and plots together. Here are some further links and comments:\n",
    "\n",
    "* For details we refer to the [Jupyter Notebook QuickStart](http://jupyter.readthedocs.io/en/latest/content-quickstart.html).\n",
    "* Some more advanced hints can be found ad the post [28 Jupyter Notebook tips, tricks, and shortcuts](https://www.dataquest.io/blog/jupyter-notebook-tips-tricks-shortcuts/).\n",
    "* To start the notebook server from the command line, use the command `jupyter notebook`. This opens the default web browser at the URL `http://localhost:8888`\n",
    "* You may configure Jupyter notebook in various ways. For example, to disable cross-site-request-forgery protection (allowing remote content to be shown) you may use the command <br>\n",
    "`jupyter notebook --NotebookApp.disable_check_xsrf=True`\n",
    "* Text can be added to Jupyter notebooks using **markdown cells**. In these cells, one can use traditional HTML, certain [LaTeX commands](https://www.latex-project.org/about/),  and also the popular text-to-HTML conversion language [Markdown](https://daringfireball.net/projects/markdown/)."
   ]
  },
  {
   "cell_type": "markdown",
   "metadata": {},
   "source": [
    "<a id='keyboard'></a>\n",
    "## Keyboard Shortcuts \n",
    "\n",
    "Keyboard shortcuts save lots of time. To access these shortcuts, note that Jupyter notebook operates in two modes:\n",
    "\n",
    "* In the **edit mode** (indicated by a green cell border) one can type into the cell in the usual way. \n",
    "* In the **command mode** (indicated by a gray cell border with a blue left margin) one is able to edit the notebook using keyboard shortcuts.  \n",
    "\n",
    "To enter the command mode, one can either press `Esc` or use the mouse to click outside a cell's editor area. Being in command mode, one can use the following keyboard shortcuts:\n",
    "\n",
    "* `Esc`: switch to command mode\n",
    "* `H`: access help menue with keyboard shortcuts\n",
    "* `P`: open the command palette\n",
    "* `Ctrl + Enter`: run selected cells\n",
    "* `Shift + Enter`: run cell, select below\n",
    "* `A`: insert a new cell above current cell\n",
    "* `B`: insert a new cell below current cell\n",
    "* `Ctrl + Shift + -`: split cell at current cursor position\n",
    "* `Y`: change cell to code\n",
    "* `M`: change cell to markdown\n",
    "* `D + D` (press the key twice): delete current cell\n",
    "* `Z`: undo cell deletion\n",
    "* `Shift + J` or `Shift + Down`: select cells downwards  \n",
    "  `Shift + K` or `Shift + Up`: select cells upwards  \n",
    "   Once cells are selected, one can delete/copy/cut/paste/run them as a batch.\n",
    "* `Shift + M`: merge selected cells\n",
    "* `X`: cut selected cells\n",
    "* `C`: copy selected cells\n",
    "* `V`: paste cells below\n"
   ]
  },
  {
   "cell_type": "markdown",
   "metadata": {},
   "source": [
    "<a id='export'></a>\n",
    "## HTML Export"
   ]
  },
  {
   "cell_type": "markdown",
   "metadata": {},
   "source": [
    "Jupyter notebooks can be exported in a variety of different formats, including <code>.pdf</code>, <code>.tex</code>, and <code>.html</code>. The export can either be done via the Jupyter menu (File$\\rightarrow$Download As) or via the command line. The following commands show the HTML export on the example of the notebook [Unit 2](PCP_python.ipynb)."
   ]
  },
  {
   "cell_type": "markdown",
   "metadata": {},
   "source": [
    "<code>jupyter nbconvert --to notebook --ClearOutputPreprocessor.enabled=True --clear-output PCP_python.ipynb</code> (clear output)<br> \n",
    "<code>jupyter nbconvert --ExecutePreprocessor.timeout=3600 --to notebook --execute --inplace PCP_python.ipynb</code> (execute)<br>\n",
    "<code>jupyter nbconvert --to html PCP_python.ipynb</code> (HTML export)"
   ]
  },
  {
   "cell_type": "markdown",
   "metadata": {},
   "source": [
    "To export all PCP notebooks at once, we provide a Python script <code>notebook_batch.py</code> which can be used as follows:\n",
    "\n",
    "<code>python notebook_batch.py --mode clean .</code> (clean all notebooks)<br> \n",
    "<code>python notebook_batch.py --mode execute .</code> (execute all notebooks)<br>\n",
    "<code>python notebook_batch.py --mode html .</code> (export all notebooks)\n",
    "\n",
    "Note: The HTML export is optional and not required for completing this course. We recommend closing all notebooks before executing these commands."
   ]
  },
  {
   "cell_type": "markdown",
   "metadata": {},
   "source": [
    "<a id='further'></a>\n",
    "\n",
    "## Further Notes\n",
    "\n",
    "Here is a list of useful commands, which may be helpful when working with Conda and Jupyter notebooks:\n",
    "\n",
    "<div class=\"alert alert-block alert-warning\">\n",
    "\n",
    "<h4>Updating, removing, and creating Python environments:</h4>\n",
    "<tt>\n",
    "conda update conda <br>     \n",
    "conda env update -f environment.yml <br>\n",
    "conda env remove -n PCP <br> \n",
    "conda env create -f environment.yml <br>  \n",
    "</tt>\n",
    "    \n",
    "<h4>Install package to strip output from IPython notebooks:</h4>   \n",
    "<tt>\n",
    "conda activate  PCP <br>\n",
    "nbstripout --install <br>\n",
    "</tt>\n",
    "    \n",
    "<h4>Install spell checker:</h4>\n",
    "<tt>\n",
    "jupyter notebook <br> \n",
    "jupyter contrib nbextension install --user <br>\n",
    "jupyter nbextension enable spellchecker/main <br>\n",
    "</tt>\n",
    "    \n",
    "<h4>Configure notebook to disable cross-site-request-forgery protection:</h4>\n",
    "<tt>\n",
    "jupyter notebook --NotebookApp.disable_check_xsrf=True <br>  \n",
    "</tt>\n",
    "    \n",
    "</div> "
   ]
  },
  {
   "cell_type": "markdown",
   "metadata": {},
   "source": [
    "<div>\n",
    "<a href=\"https://opensource.org/licenses/MIT\"><img src=\"data_layout/PCP_License.png\" width=100% style=\"float: right;\" alt=\"PCP License\"></a>\n",
    "</div>"
   ]
  }
 ],
 "metadata": {
  "anaconda-cloud": {},
  "kernelspec": {
   "display_name": "Python 3",
   "language": "python",
   "name": "python3"
  },
  "language_info": {
   "codemirror_mode": {
    "name": "ipython",
    "version": 3
   },
   "file_extension": ".py",
   "mimetype": "text/x-python",
   "name": "python",
   "nbconvert_exporter": "python",
   "pygments_lexer": "ipython3",
   "version": "3.7.11"
  },
  "toc": {
   "base_numbering": 1,
   "nav_menu": {},
   "number_sections": true,
   "sideBar": true,
   "skip_h1_title": false,
   "title_cell": "Table of Contents",
   "title_sidebar": "Contents",
   "toc_cell": false,
   "toc_position": {},
   "toc_section_display": true,
   "toc_window_display": false
  }
 },
 "nbformat": 4,
 "nbformat_minor": 1
}
