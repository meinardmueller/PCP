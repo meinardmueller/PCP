{
 "cells": [
  {
   "cell_type": "markdown",
   "metadata": {},
   "source": [
    "<div>\n",
    "<a href=\"https://www.audiolabs-erlangen.de/fau/professor/mueller\"><img src=\"data_layout/PCP_Teaser.png\" width=100% style=\"float: right;\" alt=\"PCP Teaser\"></a>\n",
    "</div>"
   ]
  },
  {
   "cell_type": "markdown",
   "metadata": {},
   "source": [
    "# Unit 2: Python Basics\n",
    "    \n",
    "<ul>\n",
    "    <li><a href='#learn'>Overview and Learning Objectives</a></li>    \n",
    "    <li><a href='#basics'>Basic Facts</a></li>\n",
    "    <li><a href='#variables'>Variables and Basic Operators</a></li>\n",
    "    <li><a href='#lists'>Lists and Tuples</a></li>\n",
    "    <li><a href='#bool'>Boolean Values</a></li>\n",
    "    <li><a href='#sets'> Sets</a></li>\n",
    "    <li><a href='#dict'>Dictionaries</a></li>\n",
    "    <li><a href='#type'>Python Type Conversion</a></li>    \n",
    "    <li><a href='#exercise_list'>Exercise 1: Basic List Manipulations</a></li>\n",
    "    <li><a href='#exercise_dict'>Exercise 2: Basic Dictionary Manipulations</a></li>        \n",
    "</ul>     "
   ]
  },
  {
   "cell_type": "markdown",
   "metadata": {},
   "source": [
    "<a id='learn'></a> \n",
    "<div class=\"alert alert-block alert-warning\">\n",
    "<h2>Overview and Learning Objectives</h2>\n",
    "    \n",
    "This unit introduces basic concepts used in Python programming while we assume that you are familiar with general programming and have some experience with other programming languages such as MATLAB, C/C++, or Java. We start with basic Python variables and operators and then introduce compound data types such as lists, tuples, sets, and dictionaries. It is important that you understand the conceptual difference between these constructs and the Python syntax to encode them. Using variables and data types in Python can differ significantly from the other programming languages, often resulting in seemingly surprising programming errors. Therefore, we will briefly discuss how to convert data types in Python. Furthermore, we point out the difference between deep and shallow copies, a delicate and important topic that is a common cause of errors, especially when passing variables to functions. As said, we only touch on these topics by giving concrete examples. To get familiar with the Python syntax, we recommend that you do the small exercises on list (<a href='#exercise_list'>Exercise 1</a>) and dictionary manipulations (<a href='#exercise_dict'>Exercise 2</a>). For more comprehensive tutorials, we refer to the following sources:  \n",
    "<ul>    \n",
    "<li> <a href=\"https://docs.python.org/3/tutorial/index.html\">The Python Tutorial</a> introduces basic concepts and features of the Python language and system.\n",
    "</li>    \n",
    "<li> The <a href=\"https://scipy-lectures.org/\">Scipy Lecture Notes</a> introduce the scientific Python ecosystem including libraries such as NumPy, Scipy, and Matplotlib.      \n",
    "</li>    \n",
    "<li> The <a href=\"https://www.audiolabs-erlangen.de/FMP\">FMP Nootbooks</a> are a collection of Python notebooks on <a href=\"http://www.music-processing.de/\">Fundamentals of Music Processing</a> (FMP).\n",
    "</li>    \n",
    "</ul>    \n",
    "\n",
    "</div>  "
   ]
  },
  {
   "cell_type": "markdown",
   "metadata": {},
   "source": [
    "<a id='basics'></a> \n",
    "## Basic Facts\n",
    "\n",
    "* Python is an interpreted (not compiled), open-source, multi-platform programming language.\n",
    "* There exist several modules for scientific computing (e.g. `numpy`, `scipy`, `matplotlib`, `librosa`) in Python.\n",
    "* Python uses indentation (and not brackets or `end`-commands) to separate blocks of code.\n",
    "* Comment lines start with the character `#`.\n",
    "* Useful functions for help:\n",
    " * Invoke the built-in help system: `help()`. \n",
    " * List objects in namespace: `dir()`.\n",
    " * Show global and local variables: `globals()`, `locals()`."
   ]
  },
  {
   "cell_type": "markdown",
   "metadata": {},
   "source": [
    "<a id='variables'></a> \n",
    "## Variables and Basic Operators\n",
    "\n",
    "Let us start with some basic facts on Python variables:\n",
    "* Variables do not need to be declared; neither their type.\n",
    "* Variables are created automatically when they are first assigned.\n",
    "* A variable name may contain letters (`a`, `b`, ..., `Y`, `Z`) and the underscore (`_`).\n",
    "* Variable names are **case sensitive**.\n",
    "* All but the first character can also be positive integer numbers.\n",
    "* Usually, one uses lower case letters and underscores to separate words.\n",
    "\n",
    "A string is given in single ticks (`'`) or double ticks (`\"`). If there is no other reason, we recommend single ticks. The following code assigns a string to a variable and prints it using the `print`-command. Furthermore, some basic string formatting is applied."
   ]
  },
  {
   "cell_type": "code",
   "execution_count": 1,
   "metadata": {
    "execution": {
     "iopub.execute_input": "2021-09-23T10:12:03.311835Z",
     "iopub.status.busy": "2021-09-23T10:12:03.311034Z",
     "iopub.status.idle": "2021-09-23T10:12:03.314429Z",
     "shell.execute_reply": "2021-09-23T10:12:03.315225Z"
    }
   },
   "outputs": [
    {
     "name": "stdout",
     "output_type": "stream",
     "text": [
      "Welcome to the Python Tutorial\n",
      "This is an integer: 17.\n",
      "This is string 1: ABCD and this is string 2:   1234.\n",
      "This is a floating point number: 03.142.\n"
     ]
    }
   ],
   "source": [
    "string_variable = 'Welcome to the Python Tutorial'\n",
    "print(string_variable)\n",
    "print('This is an integer: %d.' % 17)\n",
    "print('This is string 1: %s and this is string 2: %6s.' % ('ABCD', '1234'))\n",
    "print('This is a floating point number: %06.3f.' % 3.14159265359)"
   ]
  },
  {
   "cell_type": "markdown",
   "metadata": {},
   "source": [
    "Some basic math:"
   ]
  },
  {
   "cell_type": "code",
   "execution_count": 2,
   "metadata": {
    "execution": {
     "iopub.execute_input": "2021-09-23T10:12:03.321441Z",
     "iopub.status.busy": "2021-09-23T10:12:03.320722Z",
     "iopub.status.idle": "2021-09-23T10:12:03.324522Z",
     "shell.execute_reply": "2021-09-23T10:12:03.325688Z"
    }
   },
   "outputs": [
    {
     "name": "stdout",
     "output_type": "stream",
     "text": [
      "n + 1 = 4\n",
      "n - 1 = 2\n",
      "n * 2 = 6\n",
      "n / 2 = 1.5\n",
      "n ^ 2 = 9\n"
     ]
    }
   ],
   "source": [
    "n = 3\n",
    "print('n + 1 =', n + 1)\n",
    "print('n - 1 =', n - 1)\n",
    "print('n * 2 =', n * 2)\n",
    "print('n / 2 =', n / 2)\n",
    "print('n ^ 2 =', n ** 2)"
   ]
  },
  {
   "cell_type": "markdown",
   "metadata": {},
   "source": [
    "Division always results in a floating-point number, even if the number is divisible without remainder. (Note that there are differences between **Python 2** and **Python 3** in using `/`). If the result should be an integer (e.g., when using it as an index), one may use the `//` operator. The `%` yields the remainder."
   ]
  },
  {
   "cell_type": "code",
   "execution_count": 3,
   "metadata": {
    "execution": {
     "iopub.execute_input": "2021-09-23T10:12:03.331435Z",
     "iopub.status.busy": "2021-09-23T10:12:03.330716Z",
     "iopub.status.idle": "2021-09-23T10:12:03.333280Z",
     "shell.execute_reply": "2021-09-23T10:12:03.333982Z"
    }
   },
   "outputs": [
    {
     "name": "stdout",
     "output_type": "stream",
     "text": [
      "Normal division: 4.0\n",
      "Integer division: 4\n",
      "Normal division: 1.6\n",
      "Integer division: 1\n",
      "Remainder of integer division: 3\n"
     ]
    }
   ],
   "source": [
    "n = 8\n",
    "print('Normal division:', n / 2)\n",
    "print('Integer division:', n // 2)\n",
    "print('Normal division:', n / 5)\n",
    "print('Integer division:', n // 5)\n",
    "print('Remainder of integer division:', n % 5)"
   ]
  },
  {
   "cell_type": "markdown",
   "metadata": {},
   "source": [
    "For re-assigning a variable, one may use the following conventions:"
   ]
  },
  {
   "cell_type": "code",
   "execution_count": 1,
   "metadata": {
    "execution": {
     "iopub.execute_input": "2021-09-23T10:12:03.339950Z",
     "iopub.status.busy": "2021-09-23T10:12:03.339196Z",
     "iopub.status.idle": "2021-09-23T10:12:03.342004Z",
     "shell.execute_reply": "2021-09-23T10:12:03.342757Z"
    }
   },
   "outputs": [
    {
     "name": "stdout",
     "output_type": "stream",
     "text": [
      "Addition: 18\n",
      "Multiplication: 36\n",
      "Division: 2.0\n",
      "Exponentiation: 1.4142135623730951\n"
     ]
    }
   ],
   "source": [
    "n = 7\n",
    "n += 11\n",
    "print('Addition:', n)\n",
    "\n",
    "n *= 2\n",
    "print('Multiplication:', n)\n",
    "\n",
    "n /= 18\n",
    "print('Division:', n)\n",
    "\n",
    "n **= 0.5\n",
    "print('Exponentiation:', n)"
   ]
  },
  {
   "cell_type": "markdown",
   "metadata": {},
   "source": [
    "<a id='lists'></a> \n",
    "## Lists and Tuples\n",
    "\n",
    "The basic compound data types in Python are **lists** and **tuples**. A list is enclosed in square brackets and a tuple is enclosed in round brackets. Both are indexed with square brackets (with indexing starting with $0$). The `len` function gives the length of a tuple or a list."
   ]
  },
  {
   "cell_type": "code",
   "execution_count": 5,
   "metadata": {
    "execution": {
     "iopub.execute_input": "2021-09-23T10:12:03.351017Z",
     "iopub.status.busy": "2021-09-23T10:12:03.350272Z",
     "iopub.status.idle": "2021-09-23T10:12:03.353260Z",
     "shell.execute_reply": "2021-09-23T10:12:03.353976Z"
    }
   },
   "outputs": [
    {
     "name": "stdout",
     "output_type": "stream",
     "text": [
      "['I', 'am', 'a', 'list']\n",
      "('I', 'am', 'a', 'tuple')\n",
      "I am generated from a tuple and a list\n",
      "4\n",
      "4\n",
      "<class 'list'>\n",
      "<class 'tuple'>\n"
     ]
    }
   ],
   "source": [
    "var_lis = ['I', 'am', 'a', 'list']\n",
    "var_tup = ('I', 'am', 'a', 'tuple')\n",
    "print(var_lis)\n",
    "print(var_tup)\n",
    "print(var_lis[0], var_tup[1], 'generated from', \n",
    "      var_tup[2], var_tup[3], 'and', var_lis[2], var_lis[3])\n",
    "print(len(var_tup))\n",
    "print(len(var_lis))\n",
    "\n",
    "print(type(var_lis))\n",
    "print(type(var_tup))"
   ]
  },
  {
   "cell_type": "markdown",
   "metadata": {},
   "source": [
    "What is the difference between a list and a tuple? Tuples are **immutable** objects (i.e., their state cannot be modified after they are created) and a bit more efficient. Lists are more flexible. Here are some examples for list operations:"
   ]
  },
  {
   "cell_type": "code",
   "execution_count": 2,
   "metadata": {
    "execution": {
     "iopub.execute_input": "2021-09-23T10:12:03.362388Z",
     "iopub.status.busy": "2021-09-23T10:12:03.361436Z",
     "iopub.status.idle": "2021-09-23T10:12:03.367234Z",
     "shell.execute_reply": "2021-09-23T10:12:03.368197Z"
    }
   },
   "outputs": [
    {
     "name": "stdout",
     "output_type": "stream",
     "text": [
      "Print list: [1, 2, 3]\n",
      "Alternate item: [-1, 2, 3]\n",
      "Append item: [-1, 2, 3, 10]\n",
      "Concatenate two lists: [-1, 2, 3, 10, 'a', '12', [13, 14]]\n",
      "Last element of list:  [13, 14]\n",
      "Remove an item by index and get its value: 3\n",
      "Remove an item by value: [-1, 2, 10, 'a', '12']\n",
      "Remove items by slice of indices: [-1, 2, '12']\n"
     ]
    }
   ],
   "source": [
    "var_list = [1, 2, 3]\n",
    "print('Print list:', var_list)\n",
    "var_list[0] = -1\n",
    "print('Alternate item:', var_list)\n",
    "var_list.append(10)\n",
    "print('Append item:', var_list)\n",
    "var_list = var_list + ['a', '12', [13, 14]]\n",
    "print('Concatenate two lists:', var_list)\n",
    "print('Last element of list: ', var_list[-1])\n",
    "\n",
    "print('Remove an item by index and get its value:', var_list.pop(2))\n",
    "var_list.remove([13, 14])\n",
    "print('Remove an item by value:', var_list)\n",
    "del(var_list[2:4])\n",
    "print('Remove items by slice of indices:', var_list)"
   ]
  },
  {
   "cell_type": "markdown",
   "metadata": {},
   "source": [
    "One can index a list with start, stop, and step values (`[start:end:step]`). Note that, in Python, the last index value is `end-1`. Negative indices are possible with `-1` referring to the last index. When not specified, `start` refers to the first item, `end`  to the last item, and `step` is set to $1$."
   ]
  },
  {
   "cell_type": "code",
   "execution_count": 4,
   "metadata": {
    "execution": {
     "iopub.execute_input": "2021-09-23T10:12:03.375162Z",
     "iopub.status.busy": "2021-09-23T10:12:03.374263Z",
     "iopub.status.idle": "2021-09-23T10:12:03.379368Z",
     "shell.execute_reply": "2021-09-23T10:12:03.380684Z"
    }
   },
   "outputs": [
    {
     "name": "stdout",
     "output_type": "stream",
     "text": [
      "var_list = [11, 12, 13, 14, 15]\n",
      "var_list[0:3] = [11, 12, 13]\n",
      "var_list[1:3] = [12, 13]\n",
      "var_list[-1] = 15\n",
      "var_list[0:4:2] = [11, 13]\n",
      "var_list[0::2] = [11, 13, 15]\n",
      "var_list[::-1] = [15, 14, 13, 12, 11]\n"
     ]
    }
   ],
   "source": [
    "var_list = [11, 12, 13, 14, 15]\n",
    "print('var_list =', var_list)\n",
    "print('var_list[0:3] =', var_list[0:3])\n",
    "print('var_list[1:3] =', var_list[1:3])\n",
    "print('var_list[-1] =', var_list[-1])\n",
    "print('var_list[0:4:2] =', var_list[0:4:2])\n",
    "print('var_list[0::2] =', var_list[0::2])\n",
    "print('var_list[::-1] =', var_list[::-1])"
   ]
  },
  {
   "cell_type": "markdown",
   "metadata": {},
   "source": [
    "The following examples shows how the elements of a list or tuple can be assigned to variables (called **unpacking**):"
   ]
  },
  {
   "cell_type": "code",
   "execution_count": 8,
   "metadata": {
    "execution": {
     "iopub.execute_input": "2021-09-23T10:12:03.388377Z",
     "iopub.status.busy": "2021-09-23T10:12:03.387628Z",
     "iopub.status.idle": "2021-09-23T10:12:03.391113Z",
     "shell.execute_reply": "2021-09-23T10:12:03.390559Z"
    }
   },
   "outputs": [
    {
     "name": "stdout",
     "output_type": "stream",
     "text": [
      "1 2\n",
      "3 4\n"
     ]
    }
   ],
   "source": [
    "var_list = [1, 2]\n",
    "[a, b] = var_list\n",
    "print(a, b)\n",
    "\n",
    "var_tup = (3, 4)\n",
    "[c, d] = var_tup\n",
    "print(c, d)"
   ]
  },
  {
   "cell_type": "markdown",
   "metadata": {},
   "source": [
    "Leaving out brackets, tuples are generated."
   ]
  },
  {
   "cell_type": "code",
   "execution_count": 9,
   "metadata": {
    "execution": {
     "iopub.execute_input": "2021-09-23T10:12:03.396214Z",
     "iopub.status.busy": "2021-09-23T10:12:03.395462Z",
     "iopub.status.idle": "2021-09-23T10:12:03.398314Z",
     "shell.execute_reply": "2021-09-23T10:12:03.399006Z"
    }
   },
   "outputs": [
    {
     "name": "stdout",
     "output_type": "stream",
     "text": [
      "(1, 2)\n",
      "1 2\n"
     ]
    }
   ],
   "source": [
    "t = 1, 2\n",
    "a, b = t\n",
    "print(t)\n",
    "print(a, b)"
   ]
  },
  {
   "cell_type": "markdown",
   "metadata": {},
   "source": [
    "The `range`-function can be used to specify a tuple or list of integers (without actually generating these numbers). A range can then be converted into a tuple or list."
   ]
  },
  {
   "cell_type": "code",
   "execution_count": 10,
   "metadata": {
    "execution": {
     "iopub.execute_input": "2021-09-23T10:12:03.406652Z",
     "iopub.status.busy": "2021-09-23T10:12:03.405785Z",
     "iopub.status.idle": "2021-09-23T10:12:03.409500Z",
     "shell.execute_reply": "2021-09-23T10:12:03.410659Z"
    }
   },
   "outputs": [
    {
     "name": "stdout",
     "output_type": "stream",
     "text": [
      "range(0, 9)\n",
      "range(1, 9, 2)\n",
      "[0, 1, 2, 3, 4, 5, 6, 7, 8]\n",
      "(1, 3, 5, 7)\n",
      "[9, 8, 7, 6, 5, 4, 3, 2]\n"
     ]
    }
   ],
   "source": [
    "print(range(9))\n",
    "print(range(1, 9, 2))\n",
    "print(list(range(9)))\n",
    "print(tuple(range(1, 9, 2)))\n",
    "print(list(range(9, 1, -1)))"
   ]
  },
  {
   "cell_type": "markdown",
   "metadata": {},
   "source": [
    "<a id='bool'></a> \n",
    "## Boolean Values\n",
    "\n",
    "Boolean values in Python are `True` and `False`. Here are some examples for basic comparisons:"
   ]
  },
  {
   "cell_type": "code",
   "execution_count": 11,
   "metadata": {
    "execution": {
     "iopub.execute_input": "2021-09-23T10:12:03.417061Z",
     "iopub.status.busy": "2021-09-23T10:12:03.416309Z",
     "iopub.status.idle": "2021-09-23T10:12:03.419174Z",
     "shell.execute_reply": "2021-09-23T10:12:03.420064Z"
    }
   },
   "outputs": [
    {
     "name": "stdout",
     "output_type": "stream",
     "text": [
      "True\n",
      "True\n",
      "False\n",
      "True\n"
     ]
    }
   ],
   "source": [
    "a = 1\n",
    "b = 2\n",
    "print(a < b)\n",
    "print(a <= b)\n",
    "print(a == b)\n",
    "print(a != b)"
   ]
  },
  {
   "cell_type": "markdown",
   "metadata": {},
   "source": [
    "The `bool` function converts an arbitrary value into a boolean value. Here, are some examples:"
   ]
  },
  {
   "cell_type": "code",
   "execution_count": 12,
   "metadata": {
    "execution": {
     "iopub.execute_input": "2021-09-23T10:12:03.429558Z",
     "iopub.status.busy": "2021-09-23T10:12:03.428080Z",
     "iopub.status.idle": "2021-09-23T10:12:03.431559Z",
     "shell.execute_reply": "2021-09-23T10:12:03.432347Z"
    }
   },
   "outputs": [
    {
     "name": "stdout",
     "output_type": "stream",
     "text": [
      "True\n",
      "False\n",
      "True\n",
      "False\n",
      "False\n",
      "False\n",
      "True\n"
     ]
    }
   ],
   "source": [
    "print(bool('a'))\n",
    "print(bool(''))\n",
    "print(bool(1))\n",
    "print(bool(0))\n",
    "print(bool(0.0))\n",
    "print(bool([]))\n",
    "print(bool([4, 'hello', 1]))"
   ]
  },
  {
   "cell_type": "markdown",
   "metadata": {},
   "source": [
    "<a id='sets'></a> \n",
    "## Sets\n",
    "\n",
    "There are also other data types in Python, which we want to mention here. In the following, we introduce **sets**, which are unordered collections of unique elements. Furthermore, we apply some basic set operations. "
   ]
  },
  {
   "cell_type": "code",
   "execution_count": 5,
   "metadata": {
    "execution": {
     "iopub.execute_input": "2021-09-23T10:12:03.439844Z",
     "iopub.status.busy": "2021-09-23T10:12:03.439024Z",
     "iopub.status.idle": "2021-09-23T10:12:03.442630Z",
     "shell.execute_reply": "2021-09-23T10:12:03.441806Z"
    }
   },
   "outputs": [
    {
     "name": "stdout",
     "output_type": "stream",
     "text": [
      "Print the set s: {1, 2, 4, 5}\n",
      "Union of sets: {1, 2, 3, 4}\n",
      "Intersection of sets: {2, 3}\n",
      "Adding an element: {1, 2, 4, 5, 7}\n",
      "Removing an element: {1, 4, 5, 7}\n"
     ]
    }
   ],
   "source": [
    "s = {4, 2, 1, 2, 5, 2}\n",
    "print('Print the set s:', s)\n",
    "print('Union of sets:', {1, 2, 3} | {2, 3, 4})\n",
    "print('Intersection of sets:', {1, 2, 3} & {2, 3, 4})\n",
    "s.add(7)\n",
    "print('Adding an element:', s)\n",
    "s.remove(2)\n",
    "print('Removing an element:', s)"
   ]
  },
  {
   "cell_type": "markdown",
   "metadata": {},
   "source": [
    "<a id='dict'></a>\n",
    "## Dictionaries\n",
    "\n",
    "Another convenient data type are **dictionaries**, which are indexed by **keys** (rather than by a range of numbers as is the case for lists or arrays). The following code cell gives an example and introduces some basic operations."
   ]
  },
  {
   "cell_type": "code",
   "execution_count": 14,
   "metadata": {
    "execution": {
     "iopub.execute_input": "2021-09-23T10:12:03.450232Z",
     "iopub.status.busy": "2021-09-23T10:12:03.449506Z",
     "iopub.status.idle": "2021-09-23T10:12:03.452301Z",
     "shell.execute_reply": "2021-09-23T10:12:03.453206Z"
    }
   },
   "outputs": [
    {
     "name": "stdout",
     "output_type": "stream",
     "text": [
      "Print the dictionary dic: {'a': 1, 'b': 2, 3: 'hello'}\n",
      "Print the keys of dic: ['a', 'b', 3]\n",
      "Access the dictionary via a key: 2\n",
      "Print the values of the dictionary: [1, 2, 'hello']\n"
     ]
    }
   ],
   "source": [
    "dic = {'a': 1 , 'b': 2, 3: 'hello'}\n",
    "print('Print the dictionary dic:', dic)\n",
    "print('Print the keys of dic:', list(dic.keys()))\n",
    "print('Access the dictionary via a key:', dic['b'])\n",
    "print('Print the values of the dictionary:', list(dic.values()))"
   ]
  },
  {
   "cell_type": "markdown",
   "metadata": {},
   "source": [
    "<a id='type'></a>\n",
    "## Python Type Conversion\n",
    "\n",
    "Python offers many different numerical types and methods for type conversion. The standard numeric types in Python are `int`, `float`, and `complex`. The function `type()`can be used to identify the type of a variable. One can use the methods `int()`, `float()`, and `complex()` to convert from one type to another. This is demonstrated in the following code cell. \n",
    "\n",
    "\n",
    "<div class=\"alert alert-block alert-warning\">\n",
    "<strong>Note:</strong><br>\n",
    "<ul>\n",
    "<li>Type conversions from <code>float</code> to <code>int</code> may result in some rounding.</li>\n",
    "<li>One cannot directly convert from the type <code>complex</code> to <code>int</code> or <code>float</code>.</li>\n",
    "</ul>\n",
    "</div>"
   ]
  },
  {
   "cell_type": "code",
   "execution_count": 15,
   "metadata": {
    "execution": {
     "iopub.execute_input": "2021-09-23T10:12:03.460161Z",
     "iopub.status.busy": "2021-09-23T10:12:03.458968Z",
     "iopub.status.idle": "2021-09-23T10:12:03.464464Z",
     "shell.execute_reply": "2021-09-23T10:12:03.465651Z"
    }
   },
   "outputs": [
    {
     "name": "stdout",
     "output_type": "stream",
     "text": [
      "a = 1 <class 'int'>\n",
      "b = 1.0 <class 'float'>\n",
      "c = 2.2 <class 'float'>\n",
      "d = 2 <class 'int'>\n",
      "e = (2+0j) <class 'complex'>\n",
      "f = (1+2.2j) <class 'complex'>\n"
     ]
    }
   ],
   "source": [
    "a = 1\n",
    "print('a =', a, type(a))\n",
    "b = float(a)\n",
    "print('b =', b, type(b))\n",
    "c = 2.2\n",
    "print('c =' , c, type(c))\n",
    "d = int(c)\n",
    "print('d =', d, type(d))\n",
    "e = complex(d)\n",
    "print('e =', e, type(e))\n",
    "f = complex(a, c)\n",
    "print('f =', f, type(f))"
   ]
  },
  {
   "cell_type": "markdown",
   "metadata": {},
   "source": [
    "## Shallow and Deep Copy Operations\n",
    "\n",
    "Dealing with objects such as lists, tuples, dictionaries, or sets can be trickier as one may think. In particular, using the assignment operator `=` may only create a **pointer** from variable to an object. As a result, two variables may point to the same object, which may lead to unexpected modifications. This effect is illustrated by the following example."
   ]
  },
  {
   "cell_type": "code",
   "execution_count": 16,
   "metadata": {
    "execution": {
     "iopub.execute_input": "2021-09-23T10:12:03.471958Z",
     "iopub.status.busy": "2021-09-23T10:12:03.471223Z",
     "iopub.status.idle": "2021-09-23T10:12:03.474018Z",
     "shell.execute_reply": "2021-09-23T10:12:03.474537Z"
    }
   },
   "outputs": [
    {
     "name": "stdout",
     "output_type": "stream",
     "text": [
      "a =  [1, 2, 3] , id(a) =  2557061805768\n",
      "b =  [0, 2, 3, 4] , id(b) =  2557061805768\n",
      "a =  [0, 2, 3, 4] , id(a) =  2557061805768\n"
     ]
    }
   ],
   "source": [
    "a = [1, 2, 3]\n",
    "print('a = ', a, ', id(a) = ', id(a))\n",
    "b = a\n",
    "b[0] = 0\n",
    "b.append(4)\n",
    "print('b = ', b, ', id(b) = ', id(b))\n",
    "print('a = ', a, ', id(a) = ', id(a))"
   ]
  },
  {
   "cell_type": "markdown",
   "metadata": {},
   "source": [
    "This example shows that the assignment `b = a` does not create a copy of the list. The variables `a` and `b` point to the same object, whose identifier (unique integer) is revealed by the function `id()`. To create copies of an object, one can use the python module <a href=\"https://docs.python.org/3.1/library/copy.html\">`copy`</a>, which is imported by the statement `import copy`. There are different types of copies called **shallow copy** and **deep copy**, which become important when dealing with **compound objects** (objects whose elements are again objects such as lists of lists). \n",
    "\n",
    "* A **shallow copy** creates a new compound object. However, if the entries are again compound objects, only links are created.\n",
    "* A **deep copy** creates a new compound object, where new objects are created for all entries (and recursively for their entries).\n",
    "\n",
    "The two cases are illustrated by the subsequent example."
   ]
  },
  {
   "cell_type": "code",
   "execution_count": 17,
   "metadata": {
    "execution": {
     "iopub.execute_input": "2021-09-23T10:12:03.482480Z",
     "iopub.status.busy": "2021-09-23T10:12:03.481774Z",
     "iopub.status.idle": "2021-09-23T10:12:03.486323Z",
     "shell.execute_reply": "2021-09-23T10:12:03.487071Z"
    }
   },
   "outputs": [
    {
     "name": "stdout",
     "output_type": "stream",
     "text": [
      "a =  [[1, 2, 3], [4, 5, 6]]\n",
      "b =  [0, [4, 5, 6]]\n",
      "a =  [[1, 2, 3], [0, 5, 6]]\n",
      "b =  [0, [0, 5, 6]]\n",
      "a =  [[1, 2, 3], [4, 5, 6]]\n",
      "c =  [[1, 2, 3], [0, 5, 6]]\n"
     ]
    }
   ],
   "source": [
    "import copy\n",
    "\n",
    "a = [[1, 2, 3], [4, 5, 6]]\n",
    "b = copy.copy(a)\n",
    "b[0] = 0\n",
    "print('a = ', a)\n",
    "print('b = ', b)\n",
    "b[1][0] = 0\n",
    "print('a = ', a)\n",
    "print('b = ', b)\n",
    "\n",
    "a = [[1, 2, 3], [4, 5, 6]]\n",
    "c = copy.deepcopy(a)\n",
    "c[1][0] = 0\n",
    "print('a = ', a)\n",
    "print('c = ', c)"
   ]
  },
  {
   "cell_type": "markdown",
   "metadata": {},
   "source": [
    "## Exercises and Results"
   ]
  },
  {
   "cell_type": "code",
   "execution_count": 18,
   "metadata": {
    "execution": {
     "iopub.execute_input": "2021-09-23T10:12:03.492042Z",
     "iopub.status.busy": "2021-09-23T10:12:03.491232Z",
     "iopub.status.idle": "2021-09-23T10:12:03.498123Z",
     "shell.execute_reply": "2021-09-23T10:12:03.498807Z"
    }
   },
   "outputs": [],
   "source": [
    "import libpcp.python\n",
    "show_result = True"
   ]
  },
  {
   "cell_type": "markdown",
   "metadata": {},
   "source": [
    "<a id='exercise_list'></a>\n",
    "<div class=\"alert alert-block alert-info\">\n",
    "<strong>Exercise 1: Basic List Manipulations</strong><br>\n",
    "<ul>\n",
    "<li>In the following, we assume that a student is specified by a list containing a student ID (integer), last name (string), and first name (string). Create a list of students, which contains the following entries: <code>[123, 'Meier', 'Sebastian']</code>, <code>[456, 'Smith', 'Walter']</code>. (Note that this becomes a list of lists.)</li>\n",
    "<li>Add to this list the student <code>[789, 'Wang', 'Ming']</code>. </li>   \n",
    "<li>Print out the student list in reversed order (descending student IDs).</li>     \n",
    "<li>Print out only the first name of the second student in this list.</li>\n",
    "<li>Print the length of the list (using the <code>len</code> function).</li>  \n",
    "<li>Make a deep copy of the list and then remove the first and second student from the copied list (using the <code>del</code> statement). Furthermore, change the student ID of the remaining student from <code>789</code> to <code>777</code>. Check if the original list has been modified.</li>\n",
    "</ul>\n",
    "</div>"
   ]
  },
  {
   "cell_type": "code",
   "execution_count": 19,
   "metadata": {
    "execution": {
     "iopub.execute_input": "2021-09-23T10:12:03.503388Z",
     "iopub.status.busy": "2021-09-23T10:12:03.502334Z",
     "iopub.status.idle": "2021-09-23T10:12:03.506139Z",
     "shell.execute_reply": "2021-09-23T10:12:03.506917Z"
    }
   },
   "outputs": [],
   "source": [
    "#<solution>\n",
    "# Your Solution\n",
    "#</solution>"
   ]
  },
  {
   "cell_type": "code",
   "execution_count": 20,
   "metadata": {
    "execution": {
     "iopub.execute_input": "2021-09-23T10:12:03.512300Z",
     "iopub.status.busy": "2021-09-23T10:12:03.511397Z",
     "iopub.status.idle": "2021-09-23T10:12:03.514237Z",
     "shell.execute_reply": "2021-09-23T10:12:03.514955Z"
    }
   },
   "outputs": [
    {
     "name": "stdout",
     "output_type": "stream",
     "text": [
      "[[123, 'Meier', 'Sebastian'], [456, 'Smith', 'Walter']]\n",
      "[[123, 'Meier', 'Sebastian'], [456, 'Smith', 'Walter'], [789, 'Wang', 'Ming']]\n",
      "[[789, 'Wang', 'Ming'], [456, 'Smith', 'Walter'], [123, 'Meier', 'Sebastian']]\n",
      "Walter\n",
      "3\n",
      "[[777, 'Wang', 'Ming']]\n",
      "[[123, 'Meier', 'Sebastian'], [456, 'Smith', 'Walter'], [789, 'Wang', 'Ming']]\n"
     ]
    }
   ],
   "source": [
    "libpcp.python.exercise_list(show_result=show_result)"
   ]
  },
  {
   "cell_type": "markdown",
   "metadata": {},
   "source": [
    "<a id='exercise_dict'></a>\n",
    "<div class=\"alert alert-block alert-info\">\n",
    "<strong>Exercise 2: Basic Dictionary Manipulations</strong><br>\n",
    "<ul>\n",
    "<li>Again, we assume that a student is specified by student ID (integer), last name (string), and first name (string). Create a dictionary, where a key corresponds to the student ID and a value to a list of the last name and first name. Start with a dictionary with key <code>123</code> and value <code>['Meier', 'Sebastian']</code> as well as key <code>456</code> and value <code>['Smith', 'Walter']</code>.</li>\n",
    "<li>Add the student with key <code>789</code> and value <code>['Wang', 'Ming']</code>.</li>\n",
    "<li>Print out a list of all keys of the dictionary.</li>  \n",
    "<li>Print out a list of all values of the dictionary.</li> \n",
    "<li>Print out the last name of the student with key <code>456</code>.</li>         \n",
    "<li>Remove the student with key <code>456</code> (using the <code>del</code> statement).</li>   \n",
    "<li>Print the length of the dictionary (using the <code>len</code> function).</li>      \n",
    "</ul>\n",
    "</div>"
   ]
  },
  {
   "cell_type": "code",
   "execution_count": 21,
   "metadata": {
    "execution": {
     "iopub.execute_input": "2021-09-23T10:12:03.519178Z",
     "iopub.status.busy": "2021-09-23T10:12:03.518265Z",
     "iopub.status.idle": "2021-09-23T10:12:03.520882Z",
     "shell.execute_reply": "2021-09-23T10:12:03.521584Z"
    }
   },
   "outputs": [],
   "source": [
    "#<solution>\n",
    "# Your Solution\n",
    "#</solution>"
   ]
  },
  {
   "cell_type": "code",
   "execution_count": 22,
   "metadata": {
    "execution": {
     "iopub.execute_input": "2021-09-23T10:12:03.528005Z",
     "iopub.status.busy": "2021-09-23T10:12:03.527191Z",
     "iopub.status.idle": "2021-09-23T10:12:03.529744Z",
     "shell.execute_reply": "2021-09-23T10:12:03.530432Z"
    }
   },
   "outputs": [
    {
     "name": "stdout",
     "output_type": "stream",
     "text": [
      "{123: ['Meier', 'Sebastian'], 456: ['Smith', 'Walter']}\n",
      "{123: ['Meier', 'Sebastian'], 456: ['Smith', 'Walter'], 789: ['Wang', 'Ming']}\n",
      "[123, 456, 789]\n",
      "[['Meier', 'Sebastian'], ['Smith', 'Walter'], ['Wang', 'Ming']]\n",
      "Smith\n",
      "{123: ['Meier', 'Sebastian'], 789: ['Wang', 'Ming']}\n",
      "2\n"
     ]
    }
   ],
   "source": [
    "libpcp.python.exercise_dict(show_result=show_result)"
   ]
  },
  {
   "cell_type": "markdown",
   "metadata": {},
   "source": [
    "<div>\n",
    "<a href=\"https://opensource.org/licenses/MIT\"><img src=\"data_layout/PCP_License.png\" width=100% style=\"float: right;\" alt=\"PCP License\"></a>\n",
    "</div>"
   ]
  }
 ],
 "metadata": {
  "anaconda-cloud": {},
  "kernelspec": {
   "display_name": "Python 3",
   "language": "python",
   "name": "python3"
  },
  "language_info": {
   "codemirror_mode": {
    "name": "ipython",
    "version": 3
   },
   "file_extension": ".py",
   "mimetype": "text/x-python",
   "name": "python",
   "nbconvert_exporter": "python",
   "pygments_lexer": "ipython3",
   "version": "3.7.11"
  }
 },
 "nbformat": 4,
 "nbformat_minor": 1
}
